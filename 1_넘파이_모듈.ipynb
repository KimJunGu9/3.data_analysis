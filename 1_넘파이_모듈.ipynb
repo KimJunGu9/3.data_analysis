{
  "nbformat": 4,
  "nbformat_minor": 0,
  "metadata": {
    "colab": {
      "provenance": [],
      "authorship_tag": "ABX9TyPsJgOKqu21Zkh7iu0aTZB+",
      "include_colab_link": true
    },
    "kernelspec": {
      "name": "python3",
      "display_name": "Python 3"
    },
    "language_info": {
      "name": "python"
    }
  },
  "cells": [
    {
      "cell_type": "markdown",
      "metadata": {
        "id": "view-in-github",
        "colab_type": "text"
      },
      "source": [
        "<a href=\"https://colab.research.google.com/github/KimJunGu9/3.data_analysis/blob/main/1_%EB%84%98%ED%8C%8C%EC%9D%B4_%EB%AA%A8%EB%93%88.ipynb\" target=\"_parent\"><img src=\"https://colab.research.google.com/assets/colab-badge.svg\" alt=\"Open In Colab\"/></a>"
      ]
    },
    {
      "cell_type": "markdown",
      "source": [
        "# **1. Numpy**"
      ],
      "metadata": {
        "id": "8rGWhdGHNa8V"
      }
    },
    {
      "cell_type": "markdown",
      "source": [
        "* 수학, 과학 계산용 패키지\n",
        "* 성능 : 파이썬의 리스트보다 빠름\n",
        "* 메모리 사이즈 : 파이썬의 리스트보다 적은 메모리를 사용\n",
        "* 빌트인 함수 : 선형대수, 통계관련 여러 함수들을 내장\n"
      ],
      "metadata": {
        "id": "7lLUb9maNdmP"
      }
    },
    {
      "cell_type": "code",
      "source": [
        "!pip install numpy"
      ],
      "metadata": {
        "colab": {
          "base_uri": "https://localhost:8080/"
        },
        "id": "3-NMOnPrCz4K",
        "outputId": "1c66500a-592c-4410-a8cf-22263987d466"
      },
      "execution_count": null,
      "outputs": [
        {
          "output_type": "stream",
          "name": "stdout",
          "text": [
            "Looking in indexes: https://pypi.org/simple, https://us-python.pkg.dev/colab-wheels/public/simple/\n",
            "Requirement already satisfied: numpy in /usr/local/lib/python3.7/dist-packages (1.21.6)\n"
          ]
        }
      ]
    },
    {
      "cell_type": "code",
      "source": [
        "import numpy"
      ],
      "metadata": {
        "id": "PWqf2BP_C_4N"
      },
      "execution_count": null,
      "outputs": []
    },
    {
      "cell_type": "code",
      "source": [
        "numpy"
      ],
      "metadata": {
        "colab": {
          "base_uri": "https://localhost:8080/"
        },
        "id": "E2cU1d1kDoV7",
        "outputId": "02dda4ca-11ab-4511-e55e-a21ac0166ef7"
      },
      "execution_count": null,
      "outputs": [
        {
          "output_type": "execute_result",
          "data": {
            "text/plain": [
              "<module 'numpy' from '/usr/local/lib/python3.7/dist-packages/numpy/__init__.py'>"
            ]
          },
          "metadata": {},
          "execution_count": 3
        }
      ]
    },
    {
      "cell_type": "code",
      "source": [
        "# 별칭(alias)지정\n",
        "import numpy as np"
      ],
      "metadata": {
        "id": "0P53mEAwDoz6"
      },
      "execution_count": null,
      "outputs": []
    },
    {
      "cell_type": "code",
      "source": [
        "np"
      ],
      "metadata": {
        "colab": {
          "base_uri": "https://localhost:8080/"
        },
        "id": "8JYeF6qrD4N0",
        "outputId": "69971555-9b1d-43a5-fa7e-935939a16303"
      },
      "execution_count": null,
      "outputs": [
        {
          "output_type": "execute_result",
          "data": {
            "text/plain": [
              "<module 'numpy' from '/usr/local/lib/python3.7/dist-packages/numpy/__init__.py'>"
            ]
          },
          "metadata": {},
          "execution_count": 5
        }
      ]
    },
    {
      "cell_type": "markdown",
      "source": [
        "### **1-1. array(배열)**\n",
        "* 여러 값들의 그룹"
      ],
      "metadata": {
        "id": "eAUFzItVPI-t"
      }
    },
    {
      "cell_type": "code",
      "source": [
        "arr = np.array([1,2,3,4])"
      ],
      "metadata": {
        "id": "LiombinZEGa9"
      },
      "execution_count": null,
      "outputs": []
    },
    {
      "cell_type": "code",
      "source": [
        "arr"
      ],
      "metadata": {
        "colab": {
          "base_uri": "https://localhost:8080/"
        },
        "id": "xP1bL3Z1EP32",
        "outputId": "322af5fa-52aa-4c26-8865-0cd9cbd7f5ab"
      },
      "execution_count": null,
      "outputs": [
        {
          "output_type": "execute_result",
          "data": {
            "text/plain": [
              "array([1, 2, 3, 4])"
            ]
          },
          "metadata": {},
          "execution_count": 8
        }
      ]
    },
    {
      "cell_type": "code",
      "source": [
        "type(arr)  # numpy.ndarray = n dimension array"
      ],
      "metadata": {
        "colab": {
          "base_uri": "https://localhost:8080/"
        },
        "id": "e3iBAA-9EQh3",
        "outputId": "c500ab83-1f6c-4557-8ebf-ead0b97e22df"
      },
      "execution_count": null,
      "outputs": [
        {
          "output_type": "execute_result",
          "data": {
            "text/plain": [
              "numpy.ndarray"
            ]
          },
          "metadata": {},
          "execution_count": 9
        }
      ]
    },
    {
      "cell_type": "code",
      "source": [
        "list1 = [1,2,3,4]\n",
        "list2 = [[1,2,3,4],[5,6,7,8]]\n",
        "\n",
        "print(list1)\n",
        "print(list2)"
      ],
      "metadata": {
        "colab": {
          "base_uri": "https://localhost:8080/"
        },
        "id": "yxii-j4lEVtb",
        "outputId": "3cce7a0b-9422-4691-8a5c-f34f53deadce"
      },
      "execution_count": null,
      "outputs": [
        {
          "output_type": "stream",
          "name": "stdout",
          "text": [
            "[1, 2, 3, 4]\n",
            "[[1, 2, 3, 4], [5, 6, 7, 8]]\n"
          ]
        }
      ]
    },
    {
      "cell_type": "code",
      "source": [
        "# 리스트를 ndarray 생성하는 방법\n",
        "\n",
        "arr1 = np.array(list1)\n",
        "arr2 = np.array(list2)"
      ],
      "metadata": {
        "id": "z4-bi3wMEqCC"
      },
      "execution_count": null,
      "outputs": []
    },
    {
      "cell_type": "code",
      "source": [
        "print(arr1)\n",
        "print(type(arr1))\n",
        "print(arr2)\n",
        "print(type(arr2))"
      ],
      "metadata": {
        "colab": {
          "base_uri": "https://localhost:8080/"
        },
        "id": "lBVQZIJzFQmB",
        "outputId": "03deb1ec-10ac-42ad-9625-3813b1824a89"
      },
      "execution_count": null,
      "outputs": [
        {
          "output_type": "stream",
          "name": "stdout",
          "text": [
            "[1 2 3 4]\n",
            "<class 'numpy.ndarray'>\n",
            "[[1 2 3 4]\n",
            " [5 6 7 8]]\n",
            "<class 'numpy.ndarray'>\n"
          ]
        }
      ]
    },
    {
      "cell_type": "code",
      "source": [
        "arr1.shape # 데이터가 4개인(행이 4개) 1차원    # 차원"
      ],
      "metadata": {
        "colab": {
          "base_uri": "https://localhost:8080/"
        },
        "id": "ZMy7sQm8FTjh",
        "outputId": "3ca94290-2660-440d-8bd6-c00fe1de2530"
      },
      "execution_count": null,
      "outputs": [
        {
          "output_type": "execute_result",
          "data": {
            "text/plain": [
              "(4,)"
            ]
          },
          "metadata": {},
          "execution_count": 15
        }
      ]
    },
    {
      "cell_type": "code",
      "source": [
        "arr2.shape # 행이 2개, 열이 4개(2행 4열)  2차원"
      ],
      "metadata": {
        "colab": {
          "base_uri": "https://localhost:8080/"
        },
        "id": "czPJG3GDGAQK",
        "outputId": "6c7391d3-895b-4c90-9f05-e3ff75724076"
      },
      "execution_count": null,
      "outputs": [
        {
          "output_type": "execute_result",
          "data": {
            "text/plain": [
              "(2, 4)"
            ]
          },
          "metadata": {},
          "execution_count": 16
        }
      ]
    },
    {
      "cell_type": "markdown",
      "source": [
        "### **1-2. array의 data타입**\n",
        "* ndarray는 list와 다르게 1개의 단일 데이터 타입만 허용"
      ],
      "metadata": {
        "id": "7PIrHLpISFyY"
      }
    },
    {
      "cell_type": "code",
      "source": [
        "list = [1, 3.14, 'python', '❤️', '1234', True]"
      ],
      "metadata": {
        "id": "rSv35wRxHKVV"
      },
      "execution_count": null,
      "outputs": []
    },
    {
      "cell_type": "code",
      "source": [
        "list"
      ],
      "metadata": {
        "colab": {
          "base_uri": "https://localhost:8080/"
        },
        "id": "OsbI1oVUH49R",
        "outputId": "447ee066-4f7f-42c6-863b-566156588ba3"
      },
      "execution_count": null,
      "outputs": [
        {
          "output_type": "execute_result",
          "data": {
            "text/plain": [
              "[1, 3.14, 'python', '❤️', '1234', True]"
            ]
          },
          "metadata": {},
          "execution_count": 19
        }
      ]
    },
    {
      "cell_type": "code",
      "source": [
        "list[3]"
      ],
      "metadata": {
        "colab": {
          "base_uri": "https://localhost:8080/",
          "height": 35
        },
        "id": "X4YKvpf2H5fu",
        "outputId": "da25c796-f0f8-4d91-9db4-9879d0f13059"
      },
      "execution_count": null,
      "outputs": [
        {
          "output_type": "execute_result",
          "data": {
            "text/plain": [
              "'❤️'"
            ],
            "application/vnd.google.colaboratory.intrinsic+json": {
              "type": "string"
            }
          },
          "metadata": {},
          "execution_count": 20
        }
      ]
    },
    {
      "cell_type": "code",
      "source": [
        "arr = np.array([1,2,3,4])"
      ],
      "metadata": {
        "id": "6CA7qEw7H9s5"
      },
      "execution_count": null,
      "outputs": []
    },
    {
      "cell_type": "code",
      "source": [
        "arr"
      ],
      "metadata": {
        "colab": {
          "base_uri": "https://localhost:8080/"
        },
        "id": "qikSRul2IBc9",
        "outputId": "7bef5f0e-5e32-4d9b-f795-5b8a947a219b"
      },
      "execution_count": null,
      "outputs": [
        {
          "output_type": "execute_result",
          "data": {
            "text/plain": [
              "array([1, 2, 3, 4])"
            ]
          },
          "metadata": {},
          "execution_count": 22
        }
      ]
    },
    {
      "cell_type": "code",
      "source": [
        "arr = np.array([1,2,3, 3.14, 4])"
      ],
      "metadata": {
        "id": "EDUbthXPIB3j"
      },
      "execution_count": null,
      "outputs": []
    },
    {
      "cell_type": "code",
      "source": [
        "arr"
      ],
      "metadata": {
        "colab": {
          "base_uri": "https://localhost:8080/"
        },
        "id": "_ArA58WGIFwE",
        "outputId": "17d8169c-9187-4fd8-df30-58fe84897efd"
      },
      "execution_count": null,
      "outputs": [
        {
          "output_type": "execute_result",
          "data": {
            "text/plain": [
              "array([1.  , 2.  , 3.  , 3.14, 4.  ])"
            ]
          },
          "metadata": {},
          "execution_count": 24
        }
      ]
    },
    {
      "cell_type": "code",
      "source": [
        "arr = np.array([1,2,3,3.14,'❤️', '1234'])"
      ],
      "metadata": {
        "id": "J4tZAjpVIJuu"
      },
      "execution_count": null,
      "outputs": []
    },
    {
      "cell_type": "code",
      "source": [
        "arr # 문자열이 제일 크므로 전부 문자열로 바뀜"
      ],
      "metadata": {
        "colab": {
          "base_uri": "https://localhost:8080/"
        },
        "id": "lezX2gqsIaNO",
        "outputId": "64940d43-d9ad-47c0-e2d8-a1c5533271ad"
      },
      "execution_count": null,
      "outputs": [
        {
          "output_type": "execute_result",
          "data": {
            "text/plain": [
              "array(['1', '2', '3', '3.14', '❤️', '1234'], dtype='<U32')"
            ]
          },
          "metadata": {},
          "execution_count": 26
        }
      ]
    },
    {
      "cell_type": "code",
      "source": [
        "# int와 float 타입이 같이 존재하는 경우 int로 설정\n",
        "\n",
        "arr = np.array([1,2,3, 3.14, 4], dtype=int)  # 소수점을 버리고싶을때 dtype=int 붙이면 됨."
      ],
      "metadata": {
        "id": "yPW2zSOsIgX5"
      },
      "execution_count": null,
      "outputs": []
    },
    {
      "cell_type": "code",
      "source": [
        "arr"
      ],
      "metadata": {
        "colab": {
          "base_uri": "https://localhost:8080/"
        },
        "id": "UIqSecnaJFjq",
        "outputId": "504115f0-b8b7-4578-fa7a-97fd16fadb68"
      },
      "execution_count": null,
      "outputs": [
        {
          "output_type": "execute_result",
          "data": {
            "text/plain": [
              "array([1, 2, 3, 3, 4])"
            ]
          },
          "metadata": {},
          "execution_count": 28
        }
      ]
    },
    {
      "cell_type": "code",
      "source": [
        "# int와 str타입이 같이 존재하는 경우 int로 설정\n",
        "\n",
        "# arr = np.array([1,2,3,3.14,'❤️', '1234'], dtype=int)  # 에러발생"
      ],
      "metadata": {
        "colab": {
          "base_uri": "https://localhost:8080/",
          "height": 211
        },
        "id": "InA5qTVHJGiT",
        "outputId": "f14d65db-ea3f-4e11-d48e-ddffabbea445"
      },
      "execution_count": null,
      "outputs": [
        {
          "output_type": "error",
          "ename": "ValueError",
          "evalue": "ignored",
          "traceback": [
            "\u001b[0;31m---------------------------------------------------------------------------\u001b[0m",
            "\u001b[0;31mValueError\u001b[0m                                Traceback (most recent call last)",
            "\u001b[0;32m<ipython-input-29-4da7ad55a609>\u001b[0m in \u001b[0;36m<module>\u001b[0;34m()\u001b[0m\n\u001b[1;32m      1\u001b[0m \u001b[0;31m# int와 str타입이 같이 존재하는 경우 int로 설정ㅍ\u001b[0m\u001b[0;34m\u001b[0m\u001b[0;34m\u001b[0m\u001b[0;34m\u001b[0m\u001b[0m\n\u001b[1;32m      2\u001b[0m \u001b[0;34m\u001b[0m\u001b[0m\n\u001b[0;32m----> 3\u001b[0;31m \u001b[0marr\u001b[0m \u001b[0;34m=\u001b[0m \u001b[0mnp\u001b[0m\u001b[0;34m.\u001b[0m\u001b[0marray\u001b[0m\u001b[0;34m(\u001b[0m\u001b[0;34m[\u001b[0m\u001b[0;36m1\u001b[0m\u001b[0;34m,\u001b[0m\u001b[0;36m2\u001b[0m\u001b[0;34m,\u001b[0m\u001b[0;36m3\u001b[0m\u001b[0;34m,\u001b[0m\u001b[0;36m3.14\u001b[0m\u001b[0;34m,\u001b[0m\u001b[0;34m'❤️'\u001b[0m\u001b[0;34m,\u001b[0m \u001b[0;34m'1234'\u001b[0m\u001b[0;34m]\u001b[0m\u001b[0;34m,\u001b[0m \u001b[0mdtype\u001b[0m\u001b[0;34m=\u001b[0m\u001b[0mint\u001b[0m\u001b[0;34m)\u001b[0m\u001b[0;34m\u001b[0m\u001b[0;34m\u001b[0m\u001b[0m\n\u001b[0m",
            "\u001b[0;31mValueError\u001b[0m: invalid literal for int() with base 10: '❤️'"
          ]
        }
      ]
    },
    {
      "cell_type": "markdown",
      "source": [
        "### **1-3. 슬라이싱(slicing)**\n",
        "* 배열의 부분 선택"
      ],
      "metadata": {
        "id": "lFXxmXvfTKLs"
      }
    },
    {
      "cell_type": "code",
      "source": [
        "arr = np.array(['❤️', '😍','😁','😊','🤣'])\n",
        "arr.shape"
      ],
      "metadata": {
        "colab": {
          "base_uri": "https://localhost:8080/"
        },
        "id": "NhCJrrG1Ji5b",
        "outputId": "65f67dc5-ba21-4550-9a4e-1604634ca4a9"
      },
      "execution_count": null,
      "outputs": [
        {
          "output_type": "execute_result",
          "data": {
            "text/plain": [
              "(5,)"
            ]
          },
          "metadata": {},
          "execution_count": 31
        }
      ]
    },
    {
      "cell_type": "code",
      "source": [
        "print(arr[0])"
      ],
      "metadata": {
        "colab": {
          "base_uri": "https://localhost:8080/"
        },
        "id": "OlOnjIp2JrKk",
        "outputId": "56e050c0-5d7f-4082-e848-cf2a244652a1"
      },
      "execution_count": null,
      "outputs": [
        {
          "output_type": "stream",
          "name": "stdout",
          "text": [
            "❤️\n"
          ]
        }
      ]
    },
    {
      "cell_type": "code",
      "source": [
        "print(arr[4])"
      ],
      "metadata": {
        "colab": {
          "base_uri": "https://localhost:8080/"
        },
        "id": "turtRbVdJu8B",
        "outputId": "f07719bc-aaee-421d-869a-28977ce66beb"
      },
      "execution_count": null,
      "outputs": [
        {
          "output_type": "stream",
          "name": "stdout",
          "text": [
            "🤣\n"
          ]
        }
      ]
    },
    {
      "cell_type": "code",
      "source": [
        "print(arr[-1])"
      ],
      "metadata": {
        "colab": {
          "base_uri": "https://localhost:8080/"
        },
        "id": "ErgEy1qXJx6V",
        "outputId": "41bcad31-336e-4cb1-aec1-9145ef03181d"
      },
      "execution_count": null,
      "outputs": [
        {
          "output_type": "stream",
          "name": "stdout",
          "text": [
            "🤣\n"
          ]
        }
      ]
    },
    {
      "cell_type": "code",
      "source": [
        "print(arr[0:3])  # 이상, 미만"
      ],
      "metadata": {
        "colab": {
          "base_uri": "https://localhost:8080/"
        },
        "id": "Lp9VuvdjJzlk",
        "outputId": "42b1bddd-3fa2-4bbb-c38e-4147475c31d9"
      },
      "execution_count": null,
      "outputs": [
        {
          "output_type": "stream",
          "name": "stdout",
          "text": [
            "['❤️' '😍' '😁']\n"
          ]
        }
      ]
    },
    {
      "cell_type": "code",
      "source": [
        "print(arr[2:])"
      ],
      "metadata": {
        "colab": {
          "base_uri": "https://localhost:8080/"
        },
        "id": "8845tMvDJ4hT",
        "outputId": "cdf8410d-b072-4e5c-9a95-3e536a8087d2"
      },
      "execution_count": null,
      "outputs": [
        {
          "output_type": "stream",
          "name": "stdout",
          "text": [
            "['😁' '😊' '🤣']\n"
          ]
        }
      ]
    },
    {
      "cell_type": "code",
      "source": [
        "print(arr[:2])"
      ],
      "metadata": {
        "colab": {
          "base_uri": "https://localhost:8080/"
        },
        "id": "9L5M_RgfJ_r8",
        "outputId": "d996ed4c-d017-4bb1-eda8-78d083c9e640"
      },
      "execution_count": null,
      "outputs": [
        {
          "output_type": "stream",
          "name": "stdout",
          "text": [
            "['❤️' '😍']\n"
          ]
        }
      ]
    },
    {
      "cell_type": "code",
      "source": [
        "arr2d = np.array([[1,2,3,4], [5,6,7,8], [9,10,11,12]])"
      ],
      "metadata": {
        "id": "XK6hhnSoKBUl"
      },
      "execution_count": null,
      "outputs": []
    },
    {
      "cell_type": "code",
      "source": [
        "arr2d.shape"
      ],
      "metadata": {
        "colab": {
          "base_uri": "https://localhost:8080/"
        },
        "id": "GB4nTZZRKJuR",
        "outputId": "fadb1caa-db4d-42ed-a659-9760c5a4c9dd"
      },
      "execution_count": null,
      "outputs": [
        {
          "output_type": "execute_result",
          "data": {
            "text/plain": [
              "(3, 4)"
            ]
          },
          "metadata": {},
          "execution_count": 40
        }
      ]
    },
    {
      "cell_type": "code",
      "source": [
        "arr2d[0,2]"
      ],
      "metadata": {
        "colab": {
          "base_uri": "https://localhost:8080/"
        },
        "id": "pEF1Ix00KPzK",
        "outputId": "47f6d149-0ff8-4878-c4da-c04a84bba222"
      },
      "execution_count": null,
      "outputs": [
        {
          "output_type": "execute_result",
          "data": {
            "text/plain": [
              "3"
            ]
          },
          "metadata": {},
          "execution_count": 41
        }
      ]
    },
    {
      "cell_type": "code",
      "source": [
        "arr2d[2,1]"
      ],
      "metadata": {
        "colab": {
          "base_uri": "https://localhost:8080/"
        },
        "id": "FcTn2MYfKUow",
        "outputId": "e3592ab6-98ed-458c-de63-2c2dcf2e2604"
      },
      "execution_count": null,
      "outputs": [
        {
          "output_type": "execute_result",
          "data": {
            "text/plain": [
              "10"
            ]
          },
          "metadata": {},
          "execution_count": 43
        }
      ]
    },
    {
      "cell_type": "code",
      "source": [
        "# 0 행을 모두 가져오기\n",
        "\n",
        "print(arr2d[0])\n",
        "print(arr2d[0,])\n",
        "print(arr2d[0,:])"
      ],
      "metadata": {
        "colab": {
          "base_uri": "https://localhost:8080/"
        },
        "id": "1HmcKXvKKYtI",
        "outputId": "78758fb0-4011-4536-a012-af53c8c81388"
      },
      "execution_count": null,
      "outputs": [
        {
          "output_type": "stream",
          "name": "stdout",
          "text": [
            "[1 2 3 4]\n",
            "[1 2 3 4]\n",
            "[1 2 3 4]\n"
          ]
        }
      ]
    },
    {
      "cell_type": "code",
      "source": [
        "# 1열을 모두 가져오기\n",
        "\n",
        "print(arr2d[:,1])  # 행을 가져오는 방법은 여러가지이지만 열을 가져오는방법은 한가지 방법밖에 없다"
      ],
      "metadata": {
        "colab": {
          "base_uri": "https://localhost:8080/"
        },
        "id": "BkzExQSyKouC",
        "outputId": "77b8b758-85e4-4a2a-d907-0a14ef75f169"
      },
      "execution_count": null,
      "outputs": [
        {
          "output_type": "stream",
          "name": "stdout",
          "text": [
            "[ 2  6 10]\n"
          ]
        }
      ]
    },
    {
      "cell_type": "code",
      "source": [
        "arr2d[:2, :]"
      ],
      "metadata": {
        "colab": {
          "base_uri": "https://localhost:8080/"
        },
        "id": "Pd6qIUB_KzFc",
        "outputId": "6edfb71c-2f33-41db-a461-d15030cfebc6"
      },
      "execution_count": null,
      "outputs": [
        {
          "output_type": "execute_result",
          "data": {
            "text/plain": [
              "array([[1, 2, 3, 4],\n",
              "       [5, 6, 7, 8]])"
            ]
          },
          "metadata": {},
          "execution_count": 46
        }
      ]
    },
    {
      "cell_type": "code",
      "source": [
        "arr2d[:2, 2:]"
      ],
      "metadata": {
        "colab": {
          "base_uri": "https://localhost:8080/"
        },
        "id": "97CeTMLhK7Xs",
        "outputId": "9945dc63-d5c1-4d17-8cf4-fd3a7a46958f"
      },
      "execution_count": null,
      "outputs": [
        {
          "output_type": "execute_result",
          "data": {
            "text/plain": [
              "array([[3, 4],\n",
              "       [7, 8]])"
            ]
          },
          "metadata": {},
          "execution_count": 47
        }
      ]
    },
    {
      "cell_type": "markdown",
      "source": [
        "### **1-4. Fancy 인덱싱**\n",
        "* 범위가 아닌 특정 index의 집합의 값을 선택하여 추출하고 싶을 때 활용"
      ],
      "metadata": {
        "id": "g2Gu56d4TcV3"
      }
    },
    {
      "cell_type": "code",
      "source": [
        "arr = np.array([10, 23, 2, 7, 90, 65, 32, 66, 70])"
      ],
      "metadata": {
        "id": "AHKy9D4CSsAa"
      },
      "execution_count": null,
      "outputs": []
    },
    {
      "cell_type": "code",
      "source": [
        "idx = [1, 3, 5]    # 인덱스 번호에 따라서 추출"
      ],
      "metadata": {
        "id": "MHXsFxHnSsRn"
      },
      "execution_count": null,
      "outputs": []
    },
    {
      "cell_type": "code",
      "source": [
        "arr[idx]"
      ],
      "metadata": {
        "colab": {
          "base_uri": "https://localhost:8080/"
        },
        "id": "_g5NoTwlStQe",
        "outputId": "31944521-fd55-464b-d08b-1324a82865ee"
      },
      "execution_count": null,
      "outputs": [
        {
          "output_type": "execute_result",
          "data": {
            "text/plain": [
              "array([23,  7, 65])"
            ]
          },
          "metadata": {},
          "execution_count": 50
        }
      ]
    },
    {
      "cell_type": "code",
      "source": [
        "arr2d = np.array([[1, 2, 3, 4],\n",
        "                  [5, 6, 7, 8],\n",
        "                  [9, 10, 11, 12]])"
      ],
      "metadata": {
        "id": "FA0F5WKbSwTP"
      },
      "execution_count": null,
      "outputs": []
    },
    {
      "cell_type": "code",
      "source": [
        "arr2d[[0, 1], :]"
      ],
      "metadata": {
        "colab": {
          "base_uri": "https://localhost:8080/"
        },
        "id": "FioCXPXfSy_5",
        "outputId": "6645eaf4-7c12-4b67-b5c8-a20f4b5a0b70"
      },
      "execution_count": null,
      "outputs": [
        {
          "output_type": "execute_result",
          "data": {
            "text/plain": [
              "array([[1, 2, 3, 4],\n",
              "       [5, 6, 7, 8]])"
            ]
          },
          "metadata": {},
          "execution_count": 52
        }
      ]
    },
    {
      "cell_type": "markdown",
      "source": [
        "### **1-5. Boolean 인덱싱**\n",
        "* 조건 필터링을 통하여 Boolean 값을 이용한 색인"
      ],
      "metadata": {
        "id": "8Caag4JiTgOJ"
      }
    },
    {
      "cell_type": "code",
      "source": [
        "arr = np.array(['😜', '🎃', '😂', '😁', '😎'])"
      ],
      "metadata": {
        "id": "IuBDHH6QTDbL"
      },
      "execution_count": null,
      "outputs": []
    },
    {
      "cell_type": "code",
      "source": [
        "myValue = [True, False, True, False, True]"
      ],
      "metadata": {
        "id": "pFvwCyVITGPq"
      },
      "execution_count": null,
      "outputs": []
    },
    {
      "cell_type": "code",
      "source": [
        "arr[myValue]"
      ],
      "metadata": {
        "colab": {
          "base_uri": "https://localhost:8080/"
        },
        "id": "ZtIVC1MHTHJ7",
        "outputId": "217590db-e0ea-4ec2-f11a-8a1436025b41"
      },
      "execution_count": null,
      "outputs": [
        {
          "output_type": "execute_result",
          "data": {
            "text/plain": [
              "array(['😜', '😂', '😎'], dtype='<U1')"
            ]
          },
          "metadata": {},
          "execution_count": 58
        }
      ]
    },
    {
      "cell_type": "code",
      "source": [
        "myValue = [True, False, True, False]\n",
        "arr[myValue]  # IndexError: boolean index did not match indexed array along dimension 0; dimension is 5 but corresponding boolean dimension is 4"
      ],
      "metadata": {
        "colab": {
          "base_uri": "https://localhost:8080/",
          "height": 193
        },
        "id": "jsZdbEAgTH6F",
        "outputId": "940c7728-8d03-498f-ffec-5b0962d79693"
      },
      "execution_count": null,
      "outputs": [
        {
          "output_type": "error",
          "ename": "IndexError",
          "evalue": "ignored",
          "traceback": [
            "\u001b[0;31m---------------------------------------------------------------------------\u001b[0m",
            "\u001b[0;31mIndexError\u001b[0m                                Traceback (most recent call last)",
            "\u001b[0;32m<ipython-input-59-82f0431c6d17>\u001b[0m in \u001b[0;36m<module>\u001b[0;34m()\u001b[0m\n\u001b[1;32m      1\u001b[0m \u001b[0mmyValue\u001b[0m \u001b[0;34m=\u001b[0m \u001b[0;34m[\u001b[0m\u001b[0;32mTrue\u001b[0m\u001b[0;34m,\u001b[0m \u001b[0;32mFalse\u001b[0m\u001b[0;34m,\u001b[0m \u001b[0;32mTrue\u001b[0m\u001b[0;34m,\u001b[0m \u001b[0;32mFalse\u001b[0m\u001b[0;34m]\u001b[0m\u001b[0;34m\u001b[0m\u001b[0;34m\u001b[0m\u001b[0m\n\u001b[0;32m----> 2\u001b[0;31m \u001b[0marr\u001b[0m\u001b[0;34m[\u001b[0m\u001b[0mmyValue\u001b[0m\u001b[0;34m]\u001b[0m\u001b[0;34m\u001b[0m\u001b[0;34m\u001b[0m\u001b[0m\n\u001b[0m",
            "\u001b[0;31mIndexError\u001b[0m: boolean index did not match indexed array along dimension 0; dimension is 5 but corresponding boolean dimension is 4"
          ]
        }
      ]
    },
    {
      "cell_type": "code",
      "source": [
        "arr2d = np.array([[1, 2, 3, 4],\n",
        "                  [5, 6, 7, 8],\n",
        "                  [9, 10, 11, 12]])"
      ],
      "metadata": {
        "id": "eWX8NZRvTJb-"
      },
      "execution_count": null,
      "outputs": []
    },
    {
      "cell_type": "code",
      "source": [
        "arr2d > 4"
      ],
      "metadata": {
        "colab": {
          "base_uri": "https://localhost:8080/"
        },
        "id": "H8n7mQnpTMU3",
        "outputId": "e53ee051-eee9-49c6-e9e4-148335f8404d"
      },
      "execution_count": null,
      "outputs": [
        {
          "output_type": "execute_result",
          "data": {
            "text/plain": [
              "array([[False, False, False, False],\n",
              "       [ True,  True,  True,  True],\n",
              "       [ True,  True,  True,  True]])"
            ]
          },
          "metadata": {},
          "execution_count": 61
        }
      ]
    },
    {
      "cell_type": "code",
      "source": [
        "arr2d < 7"
      ],
      "metadata": {
        "colab": {
          "base_uri": "https://localhost:8080/"
        },
        "id": "VWjtl14qTNPy",
        "outputId": "8f5cc392-cd63-435f-d181-f25d3f318dbe"
      },
      "execution_count": null,
      "outputs": [
        {
          "output_type": "execute_result",
          "data": {
            "text/plain": [
              "array([[ True,  True,  True,  True],\n",
              "       [ True,  True, False, False],\n",
              "       [False, False, False, False]])"
            ]
          },
          "metadata": {},
          "execution_count": 62
        }
      ]
    },
    {
      "cell_type": "code",
      "source": [
        "arr2d[arr2d>4] # 대괄호에 묶어서 찍어보면 그거에 해당하는 것을 가져옴 # 차원이 2차원에서 1차원으로 바뀜"
      ],
      "metadata": {
        "colab": {
          "base_uri": "https://localhost:8080/"
        },
        "id": "VfD3bTZRTOOu",
        "outputId": "20a57035-2f52-43da-dcf8-d023e4565e89"
      },
      "execution_count": null,
      "outputs": [
        {
          "output_type": "execute_result",
          "data": {
            "text/plain": [
              "array([ 5,  6,  7,  8,  9, 10, 11, 12])"
            ]
          },
          "metadata": {},
          "execution_count": 63
        }
      ]
    },
    {
      "cell_type": "code",
      "source": [
        "arr2d[arr2d<7]"
      ],
      "metadata": {
        "colab": {
          "base_uri": "https://localhost:8080/"
        },
        "id": "a3zl0IjbTPEq",
        "outputId": "355fcfe8-8ab7-4710-df3c-a949e97c7d72"
      },
      "execution_count": null,
      "outputs": [
        {
          "output_type": "execute_result",
          "data": {
            "text/plain": [
              "array([1, 2, 3, 4, 5, 6])"
            ]
          },
          "metadata": {},
          "execution_count": 64
        }
      ]
    },
    {
      "cell_type": "markdown",
      "source": [
        "# **2. 행렬 연산**\n"
      ],
      "metadata": {
        "id": "1XdSEf1_XOXd"
      }
    },
    {
      "cell_type": "markdown",
      "source": [
        "### **2-1. Matrix**\n",
        "* 행(row) + 열(column)\n",
        "* 데이터분석 및 기계학습에서는 행렬을 제외하고 연산할 수 없음\n"
      ],
      "metadata": {
        "id": "F8vf-GEBXRyO"
      }
    },
    {
      "cell_type": "markdown",
      "source": [
        "### **2-2. 덧셈 연산**\n",
        "* shpae가 같아야 함\n",
        "* 같은 position끼리 연산"
      ],
      "metadata": {
        "id": "pzAl0dn9YAiY"
      }
    },
    {
      "cell_type": "code",
      "source": [
        "a = np.array([[1, 2, 3],\n",
        "              [2, 3, 4]])\n",
        "b = np.array([[4, 5],\n",
        "              [2, 3]])"
      ],
      "metadata": {
        "id": "hcjckiv6T2cB"
      },
      "execution_count": null,
      "outputs": []
    },
    {
      "cell_type": "code",
      "source": [
        "a + b # ValueError: operands could not be broadcast together with shapes (2,3) (2,2) "
      ],
      "metadata": {
        "colab": {
          "base_uri": "https://localhost:8080/",
          "height": 174
        },
        "id": "sVh-i6RHT54u",
        "outputId": "4cc8c14d-2715-4209-f795-438dfb57b19f"
      },
      "execution_count": null,
      "outputs": [
        {
          "output_type": "error",
          "ename": "ValueError",
          "evalue": "ignored",
          "traceback": [
            "\u001b[0;31m---------------------------------------------------------------------------\u001b[0m",
            "\u001b[0;31mValueError\u001b[0m                                Traceback (most recent call last)",
            "\u001b[0;32m<ipython-input-69-bd58363a63fc>\u001b[0m in \u001b[0;36m<module>\u001b[0;34m()\u001b[0m\n\u001b[0;32m----> 1\u001b[0;31m \u001b[0ma\u001b[0m \u001b[0;34m+\u001b[0m \u001b[0mb\u001b[0m\u001b[0;34m\u001b[0m\u001b[0;34m\u001b[0m\u001b[0m\n\u001b[0m",
            "\u001b[0;31mValueError\u001b[0m: operands could not be broadcast together with shapes (2,3) (2,2) "
          ]
        }
      ]
    },
    {
      "cell_type": "markdown",
      "source": [
        "### **2-3. 뺄셈 연산**\n",
        "* shpae가 같아야 함\n",
        "* 같은 position끼리 연산"
      ],
      "metadata": {
        "id": "bcnvfadwYLlI"
      }
    },
    {
      "cell_type": "code",
      "source": [
        "a = np.array([[1, 2, 3],\n",
        "              [2, 3, 4]])\n",
        "b = np.array([[3, 4, 5],\n",
        "              [1, 2, 3]])"
      ],
      "metadata": {
        "id": "eh_6TygAT_5S"
      },
      "execution_count": null,
      "outputs": []
    },
    {
      "cell_type": "code",
      "source": [
        "a - b"
      ],
      "metadata": {
        "colab": {
          "base_uri": "https://localhost:8080/"
        },
        "id": "jyDjMijtUBNV",
        "outputId": "0be438cd-eef9-421e-a688-9bb89905ec9c"
      },
      "execution_count": null,
      "outputs": [
        {
          "output_type": "execute_result",
          "data": {
            "text/plain": [
              "array([[-2, -2, -2],\n",
              "       [ 1,  1,  1]])"
            ]
          },
          "metadata": {},
          "execution_count": 71
        }
      ]
    },
    {
      "cell_type": "markdown",
      "source": [
        "### **2-4. 곱셈 연산**\n",
        "* shpae가 같아야 함\n",
        "* 같은 position끼리 연산"
      ],
      "metadata": {
        "id": "7tukdzLMYQ4S"
      }
    },
    {
      "cell_type": "code",
      "source": [
        "a = np.array([[1, 2, 3],\n",
        "              [2, 3, 4]])\n",
        "b = np.array([[3, 4, 5],\n",
        "              [1, 2, 3]])"
      ],
      "metadata": {
        "id": "qZSW4H9VUEgS"
      },
      "execution_count": null,
      "outputs": []
    },
    {
      "cell_type": "code",
      "source": [
        "a * b"
      ],
      "metadata": {
        "colab": {
          "base_uri": "https://localhost:8080/"
        },
        "id": "89qDkbafUFb7",
        "outputId": "02d08ca3-f9d5-4c79-cc5d-329a1bc4e3c8"
      },
      "execution_count": null,
      "outputs": [
        {
          "output_type": "execute_result",
          "data": {
            "text/plain": [
              "array([[ 3,  8, 15],\n",
              "       [ 2,  6, 12]])"
            ]
          },
          "metadata": {},
          "execution_count": 74
        }
      ]
    },
    {
      "cell_type": "markdown",
      "source": [
        "### **2-5. dot product**\n",
        "* 맞닿는 shape가 같아야 함"
      ],
      "metadata": {
        "id": "sqrnK6K_YVJ7"
      }
    },
    {
      "cell_type": "code",
      "source": [
        "a = np.array([[1, 2, 3],\n",
        "              [1, 2, 3],\n",
        "              [2, 3, 4]])\n",
        "b = np.array([[1, 2],\n",
        "              [3, 4],\n",
        "              [5, 6]])"
      ],
      "metadata": {
        "id": "7y0MeFUIUIvl"
      },
      "execution_count": null,
      "outputs": []
    },
    {
      "cell_type": "code",
      "source": [
        "a.shape, b.shape    # 앞에있는 3이랑 뒤에있는 3이 같아야 함"
      ],
      "metadata": {
        "colab": {
          "base_uri": "https://localhost:8080/"
        },
        "id": "4JCSvJuEUJ6M",
        "outputId": "23671f34-db9f-4b21-f0b7-e916cbac46ae"
      },
      "execution_count": null,
      "outputs": [
        {
          "output_type": "execute_result",
          "data": {
            "text/plain": [
              "((3, 3), (3, 2))"
            ]
          },
          "metadata": {},
          "execution_count": 77
        }
      ]
    },
    {
      "cell_type": "code",
      "source": [
        "np.dot(a, b)"
      ],
      "metadata": {
        "colab": {
          "base_uri": "https://localhost:8080/"
        },
        "id": "QhjrjlcDULaN",
        "outputId": "0f2be67a-a014-4196-b26c-0152087f0773"
      },
      "execution_count": null,
      "outputs": [
        {
          "output_type": "execute_result",
          "data": {
            "text/plain": [
              "array([[22, 28],\n",
              "       [22, 28],\n",
              "       [31, 40]])"
            ]
          },
          "metadata": {},
          "execution_count": 78
        }
      ]
    },
    {
      "cell_type": "markdown",
      "source": [
        "![1.png](data:image/png;base64,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)"
      ],
      "metadata": {
        "id": "WmOWffzvYamw"
      }
    },
    {
      "cell_type": "code",
      "source": [
        "(1*1 + 2*3 + 3*5), (1*2 + 2*4 + 3*6)\n",
        "(1*1 + 2*3 + 3*5), (1*2 + 2*4 + 3*6)\n",
        "(2*1 + 3*3 + 4*5), (2*2 + 3*4 + 4*6)"
      ],
      "metadata": {
        "colab": {
          "base_uri": "https://localhost:8080/"
        },
        "id": "UzKRtlB1UMLo",
        "outputId": "8b3018be-7084-47f8-8b15-28dd38b0a970"
      },
      "execution_count": null,
      "outputs": [
        {
          "output_type": "execute_result",
          "data": {
            "text/plain": [
              "(31, 40)"
            ]
          },
          "metadata": {},
          "execution_count": 79
        }
      ]
    },
    {
      "cell_type": "markdown",
      "source": [
        "### **2-6. arange**\n",
        "* 순차적인 값을 생성할 때 사용\n",
        "* arange로 만들면 ndarray가 만들어지고 range로 만들면 range객체로 만들어짐"
      ],
      "metadata": {
        "id": "K4qqu_28Ya4i"
      }
    },
    {
      "cell_type": "code",
      "source": [
        "arr = np.arange(1, 11) # 1부터 11미만"
      ],
      "metadata": {
        "id": "d8SmEpMbUPx9"
      },
      "execution_count": null,
      "outputs": []
    },
    {
      "cell_type": "code",
      "source": [
        "arr"
      ],
      "metadata": {
        "colab": {
          "base_uri": "https://localhost:8080/"
        },
        "id": "MBUvxkgdUSUy",
        "outputId": "f3073b37-725e-4199-93ce-b10d340b1d5e"
      },
      "execution_count": null,
      "outputs": [
        {
          "output_type": "execute_result",
          "data": {
            "text/plain": [
              "array([ 1,  2,  3,  4,  5,  6,  7,  8,  9, 10])"
            ]
          },
          "metadata": {},
          "execution_count": 82
        }
      ]
    },
    {
      "cell_type": "code",
      "source": [
        "arr = np.arange(start=1, stop=11)"
      ],
      "metadata": {
        "id": "p_yszGuCUTSC"
      },
      "execution_count": null,
      "outputs": []
    },
    {
      "cell_type": "code",
      "source": [
        "arr"
      ],
      "metadata": {
        "colab": {
          "base_uri": "https://localhost:8080/"
        },
        "id": "NMh1pyMoUUMK",
        "outputId": "60f62a1c-6185-41b8-edb8-6e9d2cce3b6c"
      },
      "execution_count": null,
      "outputs": [
        {
          "output_type": "execute_result",
          "data": {
            "text/plain": [
              "array([ 1,  2,  3,  4,  5,  6,  7,  8,  9, 10])"
            ]
          },
          "metadata": {},
          "execution_count": 84
        }
      ]
    },
    {
      "cell_type": "code",
      "source": [
        "arr = np.arange(start=1, stop=11, step=2)"
      ],
      "metadata": {
        "id": "toACGjlzUVOR"
      },
      "execution_count": null,
      "outputs": []
    },
    {
      "cell_type": "code",
      "source": [
        "arr"
      ],
      "metadata": {
        "colab": {
          "base_uri": "https://localhost:8080/"
        },
        "id": "8k14qYK4UWGv",
        "outputId": "195f12b1-4cf3-43fc-81af-ed6316c68cc3"
      },
      "execution_count": null,
      "outputs": [
        {
          "output_type": "execute_result",
          "data": {
            "text/plain": [
              "array([1, 3, 5, 7, 9])"
            ]
          },
          "metadata": {},
          "execution_count": 86
        }
      ]
    },
    {
      "cell_type": "code",
      "source": [
        "arr = range(1, 11) # 파이썬 표준 함수"
      ],
      "metadata": {
        "id": "c20mhcqSUW4_"
      },
      "execution_count": null,
      "outputs": []
    },
    {
      "cell_type": "code",
      "source": [
        "arr"
      ],
      "metadata": {
        "colab": {
          "base_uri": "https://localhost:8080/"
        },
        "id": "EqjeGthLUXqw",
        "outputId": "f3364633-c9be-4b41-ae1e-33b6aac46d23"
      },
      "execution_count": null,
      "outputs": [
        {
          "output_type": "execute_result",
          "data": {
            "text/plain": [
              "range(1, 11)"
            ]
          },
          "metadata": {},
          "execution_count": 88
        }
      ]
    },
    {
      "cell_type": "code",
      "source": [
        "for i in arr:\n",
        "  print(i)"
      ],
      "metadata": {
        "colab": {
          "base_uri": "https://localhost:8080/"
        },
        "id": "bAux3AbiUYbD",
        "outputId": "e4d149d7-7a5d-41cb-b4e4-8dbccd9049f8"
      },
      "execution_count": null,
      "outputs": [
        {
          "output_type": "stream",
          "name": "stdout",
          "text": [
            "1\n",
            "2\n",
            "3\n",
            "4\n",
            "5\n",
            "6\n",
            "7\n",
            "8\n",
            "9\n",
            "10\n"
          ]
        }
      ]
    },
    {
      "cell_type": "code",
      "source": [
        "for i in range(1, 11):\n",
        "  print(i)"
      ],
      "metadata": {
        "colab": {
          "base_uri": "https://localhost:8080/"
        },
        "id": "Y2FH3gp_UZOw",
        "outputId": "5a8689c1-a5f4-4f6f-bae0-256e939c339e"
      },
      "execution_count": null,
      "outputs": [
        {
          "output_type": "stream",
          "name": "stdout",
          "text": [
            "1\n",
            "2\n",
            "3\n",
            "4\n",
            "5\n",
            "6\n",
            "7\n",
            "8\n",
            "9\n",
            "10\n"
          ]
        }
      ]
    },
    {
      "cell_type": "code",
      "source": [
        "arr = np.arange(1, 11)\n",
        "for i in arr:\n",
        "  print(i)"
      ],
      "metadata": {
        "colab": {
          "base_uri": "https://localhost:8080/"
        },
        "id": "POyA0aKsUaU8",
        "outputId": "bc36682b-c5c6-4c5f-ebc9-7e71f2accae5"
      },
      "execution_count": null,
      "outputs": [
        {
          "output_type": "stream",
          "name": "stdout",
          "text": [
            "1\n",
            "2\n",
            "3\n",
            "4\n",
            "5\n",
            "6\n",
            "7\n",
            "8\n",
            "9\n",
            "10\n"
          ]
        }
      ]
    },
    {
      "cell_type": "markdown",
      "source": [
        "### **2-7. 정렬(sort)**"
      ],
      "metadata": {
        "id": "PSRBYei9Yieu"
      }
    },
    {
      "cell_type": "code",
      "source": [
        "arr = np.array([1, 10, 5, 8, 2, 4, 3, 6, 8, 7, 9])"
      ],
      "metadata": {
        "id": "IppMOAtEUdww"
      },
      "execution_count": null,
      "outputs": []
    },
    {
      "cell_type": "code",
      "source": [
        "arr"
      ],
      "metadata": {
        "colab": {
          "base_uri": "https://localhost:8080/"
        },
        "id": "MhshOvWyUfln",
        "outputId": "961a1cfb-d213-476b-b6c4-c8ec247898f0"
      },
      "execution_count": null,
      "outputs": [
        {
          "output_type": "execute_result",
          "data": {
            "text/plain": [
              "array([ 1, 10,  5,  8,  2,  4,  3,  6,  8,  7,  9])"
            ]
          },
          "metadata": {},
          "execution_count": 94
        }
      ]
    },
    {
      "cell_type": "code",
      "source": [
        "np.sort(arr) # 기본적으로 오른차순 정렬"
      ],
      "metadata": {
        "colab": {
          "base_uri": "https://localhost:8080/"
        },
        "id": "tPndqbmtUgcR",
        "outputId": "682f502a-013e-4651-d271-ca194ea5fd44"
      },
      "execution_count": null,
      "outputs": [
        {
          "output_type": "execute_result",
          "data": {
            "text/plain": [
              "array([ 1,  2,  3,  4,  5,  6,  7,  8,  8,  9, 10])"
            ]
          },
          "metadata": {},
          "execution_count": 96
        }
      ]
    },
    {
      "cell_type": "code",
      "source": [
        "np.sort(arr)[::-1] # 내림차순"
      ],
      "metadata": {
        "colab": {
          "base_uri": "https://localhost:8080/"
        },
        "id": "HY_RuXCZUiXw",
        "outputId": "1e6ff84f-ec0a-4cd8-ce04-5ec4c195a6ac"
      },
      "execution_count": null,
      "outputs": [
        {
          "output_type": "execute_result",
          "data": {
            "text/plain": [
              "array([10,  9,  8,  8,  7,  6,  5,  4,  3,  2,  1])"
            ]
          },
          "metadata": {},
          "execution_count": 97
        }
      ]
    },
    {
      "cell_type": "code",
      "source": [
        "arr # 값이 유지되지 않기 때문에 변수에 저장해야 함\n",
        "     # 파이썬의 sort는 저절로 저장되지만, 넘파이의sort는 저절로 저장되지않음"
      ],
      "metadata": {
        "colab": {
          "base_uri": "https://localhost:8080/"
        },
        "id": "H-l1Vz5nUjgu",
        "outputId": "12c20853-68b5-424f-9787-e2f9075a3b97"
      },
      "execution_count": null,
      "outputs": [
        {
          "output_type": "execute_result",
          "data": {
            "text/plain": [
              "array([ 1, 10,  5,  8,  2,  4,  3,  6,  8,  7,  9])"
            ]
          },
          "metadata": {},
          "execution_count": 98
        }
      ]
    },
    {
      "cell_type": "code",
      "source": [
        "result = np.sort(arr)"
      ],
      "metadata": {
        "id": "5z9XuUkmUkpg"
      },
      "execution_count": null,
      "outputs": []
    },
    {
      "cell_type": "code",
      "source": [
        "result"
      ],
      "metadata": {
        "colab": {
          "base_uri": "https://localhost:8080/"
        },
        "id": "kDNnf2q3UlvE",
        "outputId": "26c6f5e0-d55d-478f-997b-f37ac546b8da"
      },
      "execution_count": null,
      "outputs": [
        {
          "output_type": "execute_result",
          "data": {
            "text/plain": [
              "array([ 1,  2,  3,  4,  5,  6,  7,  8,  8,  9, 10])"
            ]
          },
          "metadata": {},
          "execution_count": 100
        }
      ]
    },
    {
      "cell_type": "code",
      "source": [
        "arr"
      ],
      "metadata": {
        "colab": {
          "base_uri": "https://localhost:8080/"
        },
        "id": "S9_Tu-XjUmgZ",
        "outputId": "57bc0ea6-89b7-460b-dc56-c27d0bdc17e5"
      },
      "execution_count": null,
      "outputs": [
        {
          "output_type": "execute_result",
          "data": {
            "text/plain": [
              "array([ 1, 10,  5,  8,  2,  4,  3,  6,  8,  7,  9])"
            ]
          },
          "metadata": {},
          "execution_count": 101
        }
      ]
    },
    {
      "cell_type": "code",
      "source": [
        "arr2d = np.array([[11, 10, 12, 9],\n",
        "                 [3, 1, 4, 2],\n",
        "                 [5, 6, 7, 8]])"
      ],
      "metadata": {
        "id": "vbU0EfflUnbr"
      },
      "execution_count": null,
      "outputs": []
    },
    {
      "cell_type": "code",
      "source": [
        "arr2d.shape"
      ],
      "metadata": {
        "colab": {
          "base_uri": "https://localhost:8080/"
        },
        "id": "eSM5VSRdUoSF",
        "outputId": "9a1d287a-047d-4453-fa7f-ee194146949e"
      },
      "execution_count": null,
      "outputs": [
        {
          "output_type": "execute_result",
          "data": {
            "text/plain": [
              "(3, 4)"
            ]
          },
          "metadata": {},
          "execution_count": 103
        }
      ]
    },
    {
      "cell_type": "code",
      "source": [
        "# 행 정렬\n",
        "np.sort(arr2d, axis=0)  # 행의 첫번째 부분을 보고 정렬"
      ],
      "metadata": {
        "colab": {
          "base_uri": "https://localhost:8080/"
        },
        "id": "iMpNbSddUpCJ",
        "outputId": "a9a407b0-2e2b-477f-d1be-3ad333dcbfb8"
      },
      "execution_count": null,
      "outputs": [
        {
          "output_type": "execute_result",
          "data": {
            "text/plain": [
              "array([[ 3,  1,  4,  2],\n",
              "       [ 5,  6,  7,  8],\n",
              "       [11, 10, 12,  9]])"
            ]
          },
          "metadata": {},
          "execution_count": 104
        }
      ]
    },
    {
      "cell_type": "markdown",
      "source": [
        "![1.png](data:image/png;base64,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)"
      ],
      "metadata": {
        "id": "XRXMsmvaAtaw"
      }
    },
    {
      "cell_type": "code",
      "source": [
        "# 열 정렬\n",
        "np.sort(arr2d, axis=1)"
      ],
      "metadata": {
        "colab": {
          "base_uri": "https://localhost:8080/"
        },
        "id": "3yUaRbiiUqJD",
        "outputId": "d886a364-0cf7-43ed-c93a-0ac5c8234366"
      },
      "execution_count": null,
      "outputs": [
        {
          "output_type": "execute_result",
          "data": {
            "text/plain": [
              "array([[ 9, 10, 11, 12],\n",
              "       [ 1,  2,  3,  4],\n",
              "       [ 5,  6,  7,  8]])"
            ]
          },
          "metadata": {},
          "execution_count": 105
        }
      ]
    },
    {
      "cell_type": "code",
      "source": [
        "# 마지막 방향\n",
        "np.sort(arr2d, axis=-1)"
      ],
      "metadata": {
        "colab": {
          "base_uri": "https://localhost:8080/"
        },
        "id": "kYkL8UkBUq3I",
        "outputId": "f0026f04-3345-47ff-c564-7e51528ba041"
      },
      "execution_count": null,
      "outputs": [
        {
          "output_type": "execute_result",
          "data": {
            "text/plain": [
              "array([[ 9, 10, 11, 12],\n",
              "       [ 1,  2,  3,  4],\n",
              "       [ 5,  6,  7,  8]])"
            ]
          },
          "metadata": {},
          "execution_count": 106
        }
      ]
    },
    {
      "cell_type": "markdown",
      "source": [
        "### **2-8. 숫자의 단일 연산**"
      ],
      "metadata": {
        "id": "BQCtEz0PYlMr"
      }
    },
    {
      "cell_type": "code",
      "source": [
        "a = np.array([[1, 2, 3],\n",
        "              [4, 5, 6]])\n",
        "b = np.array([[3, 3, 3],\n",
        "              [3, 3, 3]])"
      ],
      "metadata": {
        "id": "qitpvzRYUu5W"
      },
      "execution_count": null,
      "outputs": []
    },
    {
      "cell_type": "code",
      "source": [
        "a + b"
      ],
      "metadata": {
        "colab": {
          "base_uri": "https://localhost:8080/"
        },
        "id": "pBBMlDC1Uv5T",
        "outputId": "8fc531d0-320e-4ccc-f74c-98ee2652f1cc"
      },
      "execution_count": null,
      "outputs": [
        {
          "output_type": "execute_result",
          "data": {
            "text/plain": [
              "array([[4, 5, 6],\n",
              "       [7, 8, 9]])"
            ]
          },
          "metadata": {},
          "execution_count": 109
        }
      ]
    },
    {
      "cell_type": "code",
      "source": [
        "a + 3"
      ],
      "metadata": {
        "colab": {
          "base_uri": "https://localhost:8080/"
        },
        "id": "ZjG2D1v5Uxjy",
        "outputId": "d2286a69-f802-494e-bf3f-dc0c07d7fd2e"
      },
      "execution_count": null,
      "outputs": [
        {
          "output_type": "execute_result",
          "data": {
            "text/plain": [
              "array([[4, 5, 6],\n",
              "       [7, 8, 9]])"
            ]
          },
          "metadata": {},
          "execution_count": 110
        }
      ]
    },
    {
      "cell_type": "code",
      "source": [
        "a - 3"
      ],
      "metadata": {
        "colab": {
          "base_uri": "https://localhost:8080/"
        },
        "id": "7f8rjy8NUyig",
        "outputId": "52fa28d8-6423-4003-91ba-c0e5a67044d3"
      },
      "execution_count": null,
      "outputs": [
        {
          "output_type": "execute_result",
          "data": {
            "text/plain": [
              "array([[-2, -1,  0],\n",
              "       [ 1,  2,  3]])"
            ]
          },
          "metadata": {},
          "execution_count": 111
        }
      ]
    },
    {
      "cell_type": "code",
      "source": [
        "a * 3"
      ],
      "metadata": {
        "colab": {
          "base_uri": "https://localhost:8080/"
        },
        "id": "G20qqJrUUzVl",
        "outputId": "f10d66cb-440c-4fea-cd57-7ce58ecb9a2a"
      },
      "execution_count": null,
      "outputs": [
        {
          "output_type": "execute_result",
          "data": {
            "text/plain": [
              "array([[ 3,  6,  9],\n",
              "       [12, 15, 18]])"
            ]
          },
          "metadata": {},
          "execution_count": 112
        }
      ]
    },
    {
      "cell_type": "code",
      "source": [
        "a / 3"
      ],
      "metadata": {
        "colab": {
          "base_uri": "https://localhost:8080/"
        },
        "id": "HKSANk3SU0Jt",
        "outputId": "2255b4ec-136e-4a47-f12c-e6ff59f80d69"
      },
      "execution_count": null,
      "outputs": [
        {
          "output_type": "execute_result",
          "data": {
            "text/plain": [
              "array([[0.33333333, 0.66666667, 1.        ],\n",
              "       [1.33333333, 1.66666667, 2.        ]])"
            ]
          },
          "metadata": {},
          "execution_count": 113
        }
      ]
    },
    {
      "cell_type": "code",
      "source": [],
      "metadata": {
        "id": "noo7XhGTU07l"
      },
      "execution_count": null,
      "outputs": []
    }
  ]
}