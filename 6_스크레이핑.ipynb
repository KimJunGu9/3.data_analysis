{
  "nbformat": 4,
  "nbformat_minor": 0,
  "metadata": {
    "colab": {
      "provenance": [],
      "authorship_tag": "ABX9TyP5wxVw69NtDbyrkjtkx+NW",
      "include_colab_link": true
    },
    "kernelspec": {
      "name": "python3",
      "display_name": "Python 3"
    },
    "language_info": {
      "name": "python"
    }
  },
  "cells": [
    {
      "cell_type": "markdown",
      "metadata": {
        "id": "view-in-github",
        "colab_type": "text"
      },
      "source": [
        "<a href=\"https://colab.research.google.com/github/KimJunGu9/3.data_analysis/blob/main/6_%EC%8A%A4%ED%81%AC%EB%A0%88%EC%9D%B4%ED%95%91.ipynb\" target=\"_parent\"><img src=\"https://colab.research.google.com/assets/colab-badge.svg\" alt=\"Open In Colab\"/></a>"
      ]
    },
    {
      "cell_type": "markdown",
      "source": [
        "# **1. 스크레이핑(Scraping)**"
      ],
      "metadata": {
        "id": "K_F0honf1_SR"
      }
    },
    {
      "cell_type": "markdown",
      "source": [
        "* 크롤링(Crawling) : 인터넷의 데이터를 활용하기 위해 정보들을 분석하고 활용할 수 있게 수집하는 행위\n",
        "* 크롤링과 같은 개념이지만 데이터를 추출해서 가공하는 최종 목표"
      ],
      "metadata": {
        "id": "LUU_Qqpv2M0j"
      }
    },
    {
      "cell_type": "markdown",
      "source": [
        "# **2. 크롤링**"
      ],
      "metadata": {
        "id": "2wkp72t83Acs"
      }
    },
    {
      "cell_type": "markdown",
      "source": [
        "### **2-1. basicenglishspeaking.com**"
      ],
      "metadata": {
        "id": "fCViz1Qj3Fbu"
      }
    },
    {
      "cell_type": "code",
      "source": [
        "import requests   # 서버에 접속해서 html 문서를 가져오는 역할(서버에 요청 -> 응답)\n",
        "from bs4 import BeautifulSoup   # html 문서를 해석하는 역할(파싱)"
      ],
      "metadata": {
        "id": "0K2-RAuH2EeQ"
      },
      "execution_count": null,
      "outputs": []
    },
    {
      "cell_type": "code",
      "source": [
        "site = 'https://basicenglishspeaking.com/daily-english-conversation-topics/'\n",
        "request = requests.get(site) \n",
        "print(request) # <Response [200]> 정상적인 접속\n",
        "# print(request.text) # html \n",
        "html = request.text"
      ],
      "metadata": {
        "colab": {
          "base_uri": "https://localhost:8080/"
        },
        "id": "_R7cgLF3bhFk",
        "outputId": "6e244ec9-d14c-4028-e15b-639b739daa4d"
      },
      "execution_count": null,
      "outputs": [
        {
          "output_type": "stream",
          "name": "stdout",
          "text": [
            "<Response [200]>\n"
          ]
        }
      ]
    },
    {
      "cell_type": "code",
      "source": [
        "soup = BeautifulSoup(html)"
      ],
      "metadata": {
        "id": "IFzqmUc9b0B6"
      },
      "execution_count": null,
      "outputs": []
    },
    {
      "cell_type": "code",
      "source": [
        "divs = soup.findAll('div', {'class' : 'thrv-columns'}) \n",
        "# 태그가 div면서, 속성은 class가 이름이 thrv-columns인 것을 찾아줘\n",
        "# ctrl + f 해서 이름을 찾을때 1 of 1 일때 사용해도 된다. (유일한 것만 찾아야 하기 때문)\n",
        "\n",
        "print(divs)"
      ],
      "metadata": {
        "colab": {
          "base_uri": "https://localhost:8080/"
        },
        "id": "FvQ_TtsSgGCV",
        "outputId": "9da82a79-2322-4bcc-b0a0-a4ec69ae5b3e"
      },
      "execution_count": null,
      "outputs": [
        {
          "output_type": "stream",
          "name": "stdout",
          "text": [
            "[<div class=\"thrv_wrapper thrv-columns\" style=\"--tcb-col-el-width:792;\"><div class=\"tcb-flex-row tcb--cols--3\"><div class=\"tcb-flex-col\"><div class=\"tcb-col\"><div class=\"thrv_wrapper thrv_text_element\"><p>1. <a class=\"tve-froala\" href=\"https://basicenglishspeaking.com/family/\" style=\"outline: none;\">Family</a><br/>2. <a class=\"tve-froala\" href=\"https://basicenglishspeaking.com/restaurant/\" style=\"outline: none;\">Restaurant</a><br/>3. <a href=\"https://basicenglishspeaking.com/books/\">Books</a><br/>4. <a href=\"https://basicenglishspeaking.com/travel/\">Travel</a><br/>5. <a href=\"https://basicenglishspeaking.com/website/\">Website</a><br/>6. <a href=\"https://basicenglishspeaking.com/accident/\">Accident</a><br/>7. <a class=\"tve-froala\" href=\"https://basicenglishspeaking.com/childhood-memory/\" style=\"outline: none;\">Childhood memory</a><br/>8. <a class=\"tve-froala\" href=\"https://basicenglishspeaking.com/favorite-rooms/\" style=\"outline: none;\">Favorite rooms</a><br/>9. <a href=\"https://basicenglishspeaking.com/presents/\">Presents</a><br/>10. <a class=\"tve-froala\" href=\"https://basicenglishspeaking.com/historical-place/\" style=\"outline: none;\">Historical place</a><br/>11. <a class=\"tve-froala\" href=\"https://basicenglishspeaking.com/newspaper-magazine/\" style=\"outline: none;\">Newspaper/ Magazine</a><br/>12. <a href=\"https://basicenglishspeaking.com/an-event/\">A memorable event</a><br/>13. <a href=\"https://basicenglishspeaking.com/a-subject/\">A favorite subject</a><br/>14. <a href=\"https://basicenglishspeaking.com/a-museum/\">A museum</a><br/>15. <a href=\"https://basicenglishspeaking.com/a-movie/\">A favorite movie</a><br/>16. <a href=\"https://basicenglishspeaking.com/a-foreign-country/\">A foreign country</a><br/>17. <a href=\"https://basicenglishspeaking.com/parties/\">Parties</a><br/>18. <a href=\"https://basicenglishspeaking.com/a-teacher/\">A teacher</a><br/>19. <a href=\"https://basicenglishspeaking.com/a-friend/\">A friend</a><br/>20. <a href=\"https://basicenglishspeaking.com/a-hotel/\">A hotel</a><br/>21. <a href=\"https://basicenglishspeaking.com/a-letter/\">A letter</a><br/>22. <a href=\"https://basicenglishspeaking.com/hobbies/\">Hobbies</a><br/>23. <a href=\"https://basicenglishspeaking.com/music/\">Music</a><br/>24. <a href=\"https://basicenglishspeaking.com/shopping/\">Shopping</a><br/>25. <a href=\"https://basicenglishspeaking.com/holiday/\">Holiday</a></p></div></div></div><div class=\"tcb-flex-col\"><div class=\"tcb-col\"><div class=\"thrv_wrapper thrv_text_element\"><p>26. <a class=\"tve-froala\" href=\"https://basicenglishspeaking.com/animals/\" style=\"outline: none;\">Animals</a><br/>27. <a class=\"tve-froala\" href=\"https://basicenglishspeaking.com/a-practical-skill/\" style=\"outline: none;\">A practical skill</a><br/>28. <a href=\"https://basicenglishspeaking.com/sports/\">Sport</a><br/>29. <a href=\"https://basicenglishspeaking.com/a-school/\">A School</a><br/>30. <a href=\"https://basicenglishspeaking.com/festival/\">Festival</a><br/>31. <a href=\"https://basicenglishspeaking.com/food/\">Food</a><br/>32. <a href=\"https://basicenglishspeaking.com/household-appliance/\">Household appliance</a><br/>33. <a href=\"https://basicenglishspeaking.com/a-music-band/\">A music band</a><br/>34. <a href=\"https://basicenglishspeaking.com/weather/\">Weather</a><br/>35. <a href=\"https://basicenglishspeaking.com/neighbor/\">Neighbor</a><br/>36. <a href=\"https://basicenglishspeaking.com/natural-scenery/\">Natural scenery</a><br/>37. <a href=\"https://basicenglishspeaking.com/outdoor-activities/\">Outdoor activities</a><br/>38. <a href=\"https://basicenglishspeaking.com/law/\">Law</a><br/>39. <a href=\"https://basicenglishspeaking.com/pollution/\">Pollution</a><br/>40. <a href=\"https://basicenglishspeaking.com/traffic-jam/\">Traffic jam</a><br/>41. <a href=\"https://basicenglishspeaking.com/tv-program/\">TV program</a><br/>42. <a href=\"https://basicenglishspeaking.com/architecture-building/\">Architect/ Building</a><br/>43. <a href=\"https://basicenglishspeaking.com/electronic-media/\">Electronic Media</a><br/>44. <a href=\"https://basicenglishspeaking.com/job-career/\">Job/ Career</a><br/>45. <a href=\"https://basicenglishspeaking.com/competition-contest/\">Competition/ contest</a><br/>46. <a href=\"https://basicenglishspeaking.com/a-garden/\">A garden</a><br/>47. <a href=\"https://basicenglishspeaking.com/hometown/\">Hometown</a><br/>48. <a href=\"https://basicenglishspeaking.com/clothing/\">Clothing</a><br/>49. <a href=\"https://basicenglishspeaking.com/an-advertisement/\">Advertisement</a><br/>50. <a href=\"https://basicenglishspeaking.com/a-project/\">A project</a></p></div></div></div><div class=\"tcb-flex-col\"><div class=\"tcb-col\"><div class=\"thrv_wrapper thrv_text_element\"><p>51. <a href=\"https://basicenglishspeaking.com/a-wedding/\">A wedding</a><br/>52. <a href=\"https://basicenglishspeaking.com/a-coffee-shop/\">A Coffee shop</a><br/>53. <a href=\"https://basicenglishspeaking.com/culture/\">Culture</a><br/>54. <a href=\"https://basicenglishspeaking.com/transport/\">Transport</a><br/>55. <a href=\"https://basicenglishspeaking.com/politician/\">Politician</a><br/>56. <a href=\"https://basicenglishspeaking.com/communication/\">Communication</a><br/>57. <a href=\"https://basicenglishspeaking.com/business/\">Business</a><br/>58. <a href=\"https://basicenglishspeaking.com/computer/\">Computer</a><br/>59. <a href=\"https://basicenglishspeaking.com/exercise/\">Exercise</a><br/>60. <a href=\"https://basicenglishspeaking.com/goal-ambition/\">Goal/ ambition</a><br/>61. <a href=\"https://basicenglishspeaking.com/art/\">Art</a><br/>62. <a href=\"https://basicenglishspeaking.com/fashion/\">Fashion</a><br/>63. <a href=\"https://basicenglishspeaking.com/jewelry/\">Jewelry</a><br/>64. <a href=\"https://basicenglishspeaking.com/cosmetic/\">Cosmetic</a><br/>65. <a href=\"https://basicenglishspeaking.com/indoor-game/\">Indoor Game</a><br/>66. <a href=\"https://basicenglishspeaking.com/phone-conversation/\">Phone conversation</a><br/>67. <a href=\"https://basicenglishspeaking.com/learning-second-language/\">Learning A Second language</a><br/>68. <a href=\"https://basicenglishspeaking.com/a-creative-person/\">A Creative Person</a><br/>69. <a href=\"https://basicenglishspeaking.com/a-celebrity/\">A celebrity</a><br/>70. <a href=\"https://basicenglishspeaking.com/a-health-problem/\">A Health Problem</a><br/>71. <a href=\"https://basicenglishspeaking.com/technological-advancements/\">Technological advancements</a><br/>72. <a href=\"https://basicenglishspeaking.com/a-landmark/\">A Landmark</a><br/>73. <a href=\"https://basicenglishspeaking.com/handcraft-items/\">Handcraft Items</a><br/>74. <a href=\"https://basicenglishspeaking.com/plastic-surgery/\">Plastic Surgery</a><br/>75. <a href=\"https://basicenglishspeaking.com/success/\">Success</a></p></div></div></div></div></div>]\n"
          ]
        }
      ]
    },
    {
      "cell_type": "code",
      "source": [
        "subject = []\n",
        "\n",
        "for div in divs:\n",
        "  links = div.findAll('a') # 'a' (앵커태그)를 찾아서 links에 저장\n",
        "  # print(links)\n",
        "  for link in links:\n",
        "    # print(link.text)  # 앵커태그에 글자만 가져온다.\n",
        "    subject.append(link.text) # subject의 리스트에다가 글자만 가져온 것을 담는다."
      ],
      "metadata": {
        "id": "-vvPwxD_gQFZ"
      },
      "execution_count": null,
      "outputs": []
    },
    {
      "cell_type": "code",
      "source": [
        "print('총', len(subject), '개의 주제를 찾았습니다.')\n",
        "\n",
        "for i in range(len(subject)):\n",
        "  print('{0:2d}. {1:s}'. format(i+1, subject[i]))  \n",
        "# 0은 i+1을 나타내고, 1은 subject[i]를 나타낸다.   2d는 두자리의 숫자를 찍어달라는 것(d는 decimal), s는 string"
      ],
      "metadata": {
        "colab": {
          "base_uri": "https://localhost:8080/"
        },
        "id": "Hr0eiDG2jF64",
        "outputId": "aba8f8cd-51e4-48fa-bc2b-109c9daee9c6"
      },
      "execution_count": null,
      "outputs": [
        {
          "output_type": "stream",
          "name": "stdout",
          "text": [
            "총 75 개의 주제를 찾았습니다.\n",
            " 1. Family\n",
            " 2. Restaurant\n",
            " 3. Books\n",
            " 4. Travel\n",
            " 5. Website\n",
            " 6. Accident\n",
            " 7. Childhood memory\n",
            " 8. Favorite rooms\n",
            " 9. Presents\n",
            "10. Historical place\n",
            "11. Newspaper/ Magazine\n",
            "12. A memorable event\n",
            "13. A favorite subject\n",
            "14. A museum\n",
            "15. A favorite movie\n",
            "16. A foreign country\n",
            "17. Parties\n",
            "18. A teacher\n",
            "19. A friend\n",
            "20. A hotel\n",
            "21. A letter\n",
            "22. Hobbies\n",
            "23. Music\n",
            "24. Shopping\n",
            "25. Holiday\n",
            "26. Animals\n",
            "27. A practical skill\n",
            "28. Sport\n",
            "29. A School\n",
            "30. Festival\n",
            "31. Food\n",
            "32. Household appliance\n",
            "33. A music band\n",
            "34. Weather\n",
            "35. Neighbor\n",
            "36. Natural scenery\n",
            "37. Outdoor activities\n",
            "38. Law\n",
            "39. Pollution\n",
            "40. Traffic jam\n",
            "41. TV program\n",
            "42. Architect/ Building\n",
            "43. Electronic Media\n",
            "44. Job/ Career\n",
            "45. Competition/ contest\n",
            "46. A garden\n",
            "47. Hometown\n",
            "48. Clothing\n",
            "49. Advertisement\n",
            "50. A project\n",
            "51. A wedding\n",
            "52. A Coffee shop\n",
            "53. Culture\n",
            "54. Transport\n",
            "55. Politician\n",
            "56. Communication\n",
            "57. Business\n",
            "58. Computer\n",
            "59. Exercise\n",
            "60. Goal/ ambition\n",
            "61. Art\n",
            "62. Fashion\n",
            "63. Jewelry\n",
            "64. Cosmetic\n",
            "65. Indoor Game\n",
            "66. Phone conversation\n",
            "67. Learning A Second language\n",
            "68. A Creative Person\n",
            "69. A celebrity\n",
            "70. A Health Problem\n",
            "71. Technological advancements\n",
            "72. A Landmark\n",
            "73. Handcraft Items\n",
            "74. Plastic Surgery\n",
            "75. Success\n"
          ]
        }
      ]
    },
    {
      "cell_type": "markdown",
      "source": [
        "### **2-2. 다음 뉴스기사**"
      ],
      "metadata": {
        "id": "rxoa7gUmnbOD"
      }
    },
    {
      "cell_type": "code",
      "source": [
        "# https://movie.v.daum.net/v/20220625085027862\n",
        "\n",
        "def daum_news_title(news_id):\n",
        "  url = 'https://movie.v.daum.net/v/{}'. format(news_id) # {} 안에 news_id가 들어감\n",
        "  request = requests.get(url)\n",
        "  # print(request)\n",
        "  soup = BeautifulSoup(request.text)\n",
        "  # title = soup.findAll('h3', {'class' : 'tit_view'})  # ver 1\n",
        "  # title = soup.find('h3', {'class' : 'tit_view'})    # ver 2\n",
        "  title = soup.select_one('h3.tit_view')               # ver 3\n",
        "  if title:\n",
        "    return title.text.strip()  # strip() : 앞뒤 공백 없애기\n",
        "  return '' # title이랑 값이 없으면 리턴되는 값이 없도록 '' 한다."
      ],
      "metadata": {
        "id": "9zpwnbLNnkkK"
      },
      "execution_count": null,
      "outputs": []
    },
    {
      "cell_type": "code",
      "source": [
        "daum_news_title('20220625085027862')"
      ],
      "metadata": {
        "colab": {
          "base_uri": "https://localhost:8080/",
          "height": 35
        },
        "id": "_j7mYU6qsyNe",
        "outputId": "47e99b0e-b4b0-4fc1-8281-a3cb727306a8"
      },
      "execution_count": null,
      "outputs": [
        {
          "output_type": "execute_result",
          "data": {
            "text/plain": [
              "'팬데믹 후 첫 천만..마동석 펀치로 심폐소생한 극장가 [상반기 결산-영화]'"
            ],
            "application/vnd.google.colaboratory.intrinsic+json": {
              "type": "string"
            }
          },
          "metadata": {},
          "execution_count": 26
        }
      ]
    },
    {
      "cell_type": "code",
      "source": [
        "daum_news_title('20220626135247793')"
      ],
      "metadata": {
        "colab": {
          "base_uri": "https://localhost:8080/",
          "height": 35
        },
        "id": "gEQ8985Zs3bx",
        "outputId": "8321a76c-963a-4e8d-d56c-fbcdaaaea575"
      },
      "execution_count": null,
      "outputs": [
        {
          "output_type": "execute_result",
          "data": {
            "text/plain": [
              "\"'애프터 양' 누적 관객 3만 돌파.. 탄탄한 팬덤\""
            ],
            "application/vnd.google.colaboratory.intrinsic+json": {
              "type": "string"
            }
          },
          "metadata": {},
          "execution_count": 27
        }
      ]
    },
    {
      "cell_type": "markdown",
      "source": [
        "### **2-3. 벅스뮤직 차트**"
      ],
      "metadata": {
        "id": "c4KbE-LNuz5j"
      }
    },
    {
      "cell_type": "code",
      "source": [
        "request = requests.get('https://music.bugs.co.kr/chart')\n",
        "html = request.text\n",
        "soup = BeautifulSoup(html)\n",
        "\n",
        "titles = soup.findAll('p', {'class' : 'title'})\n",
        "# print(title)\n",
        "artists = soup.findAll('p', {'class':'artist'})\n",
        "# print(artists)"
      ],
      "metadata": {
        "id": "v9K0uT3euw5p"
      },
      "execution_count": null,
      "outputs": []
    },
    {
      "cell_type": "code",
      "source": [
        "for i in range(len(titles)):\n",
        "  title = titles[i].text.strip() \n",
        "  # title이라는 변수에다가 titles의 [i]번째데이터를 가져오고, 그리고 글자만 뽑아와서, strip()으로 양쪽 공백을 없앤다.\n",
        "  \n",
        "  artist = artists[i].text.strip().split('\\n')[0]   \n",
        "  # 중간에 공백이 나타나는데 split으로 쪼개면 윗부분이 0번(이름), 아래가 1번(이름과 제목)으로 나뉘게된다. \n",
        "  # 그래서 앞부분만 가져오기 위해서 [0]을 선택한 후 artist에 집어넣는다.(왜냐면 이름만 필요하니까)\n",
        "  \n",
        "  data = '{0:3d}위 {1} - {2}'.format(i+1, artist, title)\n",
        "  print(data)"
      ],
      "metadata": {
        "colab": {
          "base_uri": "https://localhost:8080/"
        },
        "id": "TtYHAcy60omP",
        "outputId": "e5cb891c-eb30-42c3-a3f6-49271137662e"
      },
      "execution_count": null,
      "outputs": [
        {
          "output_type": "stream",
          "name": "stdout",
          "text": [
            "  1위 NewJeans - Attention\n",
            "  2위 NewJeans - Hype Boy\n",
            "  3위 소녀시대 (GIRLS' GENERATION) - FOREVER 1\n",
            "  4위 ITZY (있지) - SNEAKERS\n",
            "  5위 WSG워너비 (가야G) - 그때 그 순간 그대로 (그그그)\n",
            "  6위 키노 - POSE\n",
            "  7위 WSG워너비 (4FIRE) - 보고싶었어\n",
            "  8위 IVE (아이브) - LOVE DIVE\n",
            "  9위 NewJeans - Cookie\n",
            " 10위 UNORDINARY SUNDAY - Sunflower\n",
            " 11위 OneRepublic(원리퍼블릭) - I Ain't Worried\n",
            " 12위 UNORDINARY SUNDAY - 독 ( )\n",
            " 13위 10CM - 그라데이션\n",
            " 14위 aespa - 도깨비불 (Illusion)\n",
            " 15위 WSG워너비 - 눈을 감으면\n",
            " 16위 로꼬 - Somebody!\n",
            " 17위 나연 (TWICE) - POP!\n",
            " 18위 선미 - 열이올라요 (Heart Burn)\n",
            " 19위 (여자)아이들 - TOMBOY\n",
            " 20위 NewJeans - Hurt\n",
            " 21위 aespa - Girls\n",
            " 22위 LE SSERAFIM (르세라핌) - FEARLESS\n",
            " 23위 청하 - Sparkling\n",
            " 24위 WINNER - I LOVE U\n",
            " 25위 다비치 - 팡파레\n",
            " 26위 경서 - 나의 X에게\n",
            " 27위 BIG Naughty (서동현) - 정이라고 하자 (Feat. 10CM)\n",
            " 28위 싸이 (PSY) - That That (prod. & feat. SUGA of BTS)\n",
            " 29위 지코 - 괴짜 (Freak)\n",
            " 30위 케이시 - 사랑이야\n",
            " 31위 STAYC(스테이씨) - BEAUTIFUL MONSTER\n",
            " 32위 멜로망스(MeloMance) - 사랑인가 봐\n",
            " 33위 소녀시대 (GIRLS' GENERATION) - Lucky Like That\n",
            " 34위 IVE (아이브) - ELEVEN\n",
            " 35위 (여자)아이들 - MY BAG\n",
            " 36위 Charlie Puth(찰리 푸스) - That's Hilarious\n",
            " 37위 WSG워너비 (오아시소) - Clink Clink (클링 클링)\n",
            " 38위 경서예지 - 다정히 내 이름을 부르면\n",
            " 39위 볼빨간사춘기 - Love story\n",
            " 40위 박재범 - GANADARA (Feat. 아이유)\n",
            " 41위 프로미스나인 - Stay This Way\n",
            " 42위 세븐틴(SEVENTEEN) - _WORLD\n",
            " 43위 아이유(IU) - strawberry moon\n",
            " 44위 Charlie Puth(찰리 푸스) - Left and Right (Feat. Jung Kook of BTS)\n",
            " 45위 김민석 (멜로망스) - 취중고백\n",
            " 46위 이석훈 - 바보에게 바보가 (웹툰 '연애의 발견' X 이석훈)\n",
            " 47위 benny blanco - Bad Decisions\n",
            " 48위 방탄소년단 - Yet To Come\n",
            " 49위 이무진 - 신호등\n",
            " 50위 BE'O (비오) - LOVE me\n",
            " 51위 BIGBANG (빅뱅) - 봄여름가을겨울 (Still Life)\n",
            " 52위 aespa - Next Level\n",
            " 53위 Red Velvet (레드벨벳) - Feel My Rhythm\n",
            " 54위 아이유(IU) - 드라마\n",
            " 55위 Charlie Puth(찰리 푸스) - Dangerously\n",
            " 56위 케이시 - 늦은 밤 헤어지긴 너무 아쉬워\n",
            " 57위 10CM - 봄 to 러브\n",
            " 58위 Justin Bieber(저스틴 비버) - Off My Face\n",
            " 59위 볼빨간사춘기 - Seoul\n",
            " 60위 헤이즈(Heize) - 없었던 일로\n",
            " 61위 임영웅 - 사랑은 늘 도망가\n",
            " 62위 이효리 - 오늘부터 행복한 나 (Feat. 이상순)\n",
            " 63위 The Kid LAROI - STAY\n",
            " 64위 주호 - 내가 아니라도\n",
            " 65위 성시경 - 너의 모든 순간\n",
            " 66위 태연 (TAEYEON) - INVU\n",
            " 67위 aespa - Life′s Too Short (English Ver.)\n",
            " 68위 소녀시대 (GIRLS' GENERATION) - Closer\n",
            " 69위 태연 (TAEYEON) - Weekend\n",
            " 70위 지코 - SEOUL DRIFT\n",
            " 71위 박은빈 - 제주도의 푸른밤\n",
            " 72위 세븐틴(SEVENTEEN) - HOT\n",
            " 73위 펀치 (Punch) - 사랑이 불어오나 봐\n",
            " 74위 선우정아(Sunwoojunga) - 상상 (Beyond My Dreams)\n",
            " 75위 소녀시대 (GIRLS' GENERATION) - Villain\n",
            " 76위 수지 - 안하기가 쉽지 않아요\n",
            " 77위 YENA (최예나) - SMILEY (Feat. BIBI)\n",
            " 78위 주시크 (Joosiq) - 아무래도 난\n",
            " 79위 소녀시대 (GIRLS' GENERATION) - 종이비행기 (Paper Plane)\n",
            " 80위 소녀시대 (GIRLS' GENERATION) - 완벽한 장면 (Summer Night)\n",
            " 81위 김승민 - 내 기쁨은 너가 벤틀리를 끄는 거야\n",
            " 82위 오반 - 망해 간다니까\n",
            " 83위 방탄소년단 - Dynamite\n",
            " 84위 YENA (최예나) - SMARTPHONE\n",
            " 85위 MSG워너비(M.O.M) - 듣고 싶을까\n",
            " 86위 소녀시대 (GIRLS' GENERATION) - Seventeen\n",
            " 87위 바다(BADA) - 국지성 호우\n",
            " 88위 소녀시대 (GIRLS' GENERATION) - Freedom\n",
            " 89위 아이유(IU) - Celebrity\n",
            " 90위 CHEEZE(치즈) - HAPPI\n",
            " 91위 한동근 - 새벽에 걸려온 너의 전화는\n",
            " 92위 Peder Elias - Loving You Girl (feat. Hkeem)\n",
            " 93위 헤이즈(Heize) - 마지막 너의 인사\n",
            " 94위 폴킴(Paul Kim) - 너의 잠을 채워줄게 (자장가)\n",
            " 95위 Charlie Puth(찰리 푸스) - Light Switch\n",
            " 96위 폴킴(Paul Kim) - 모든 날, 모든 순간 (Every day, Every Moment)\n",
            " 97위 이영지 - 낮 밤 (feat. 박재범)\n",
            " 98위 소녀시대 (GIRLS' GENERATION) - You Better Run\n",
            " 99위 조유리 - 모를 수도 있지만 (Maybe)\n",
            "100위 소녀시대 (GIRLS' GENERATION) - Mood Lamp\n"
          ]
        }
      ]
    },
    {
      "cell_type": "markdown",
      "source": [
        "![6.png](data:image/png;base64,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)"
      ],
      "metadata": {
        "id": "2oEuODtk2p4t"
      }
    },
    {
      "cell_type": "markdown",
      "source": [
        "![2.png](data:image/png;base64,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)"
      ],
      "metadata": {
        "id": "Vm75UCTm1731"
      }
    },
    {
      "cell_type": "markdown",
      "source": [
        "![3.png](data:image/png;base64,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)"
      ],
      "metadata": {
        "id": "cqnSLCeP2IgF"
      }
    },
    {
      "cell_type": "markdown",
      "source": [
        "![4.png](data:image/png;base64,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)"
      ],
      "metadata": {
        "id": "fDunkLCF2Jiz"
      }
    },
    {
      "cell_type": "markdown",
      "source": [
        "### **2-4. 멜론 차트**"
      ],
      "metadata": {
        "id": "U7QNa0Vn3TAq"
      }
    },
    {
      "cell_type": "code",
      "source": [
        "url = 'https://www.melon.com/chart/index.html'\n",
        "request = requests.get(url)\n",
        "print(request)"
      ],
      "metadata": {
        "colab": {
          "base_uri": "https://localhost:8080/"
        },
        "id": "O_6rEQDH1YrJ",
        "outputId": "dfe5ce06-c48c-497f-9163-63f787304358"
      },
      "execution_count": null,
      "outputs": [
        {
          "output_type": "stream",
          "name": "stdout",
          "text": [
            "<Response [406]>\n"
          ]
        }
      ]
    },
    {
      "cell_type": "code",
      "source": [
        "# User-Agent: Mozilla/5.0 (Windows NT 10.0; Win64; x64) AppleWebKit/537.36 (KHTML, like Gecko) Chrome/102.0.0.0 Safari/537.36\n",
        "header = {'User-Agent':'Mozilla/5.0 (Windows NT 10.0; Win64; x64)'}  # header하는 이유는 홈페이지에서 그대로 가져올 수 없으니까 우회?하는 형식\n",
        "url = 'https://www.melon.com/chart/index.html'\n",
        "request = requests.get(url, headers=header) # headers를 포함해서 request한다.\n",
        "print(request)\n",
        "\n",
        "\n",
        "# f12 \n",
        "# network -> 빨간불이 들어와있는지 확인한 후\n",
        "# f5키 누르고\n",
        "# index.htm 누르고 \n",
        "# reqeust headers에서 user-agent 확인\n",
        "# "
      ],
      "metadata": {
        "colab": {
          "base_uri": "https://localhost:8080/"
        },
        "id": "gwMuub1C3Uf7",
        "outputId": "6aa3ee46-01d8-497c-d4c3-b66b7cc94f6f"
      },
      "execution_count": null,
      "outputs": [
        {
          "output_type": "stream",
          "name": "stdout",
          "text": [
            "<Response [200]>\n"
          ]
        }
      ]
    },
    {
      "cell_type": "code",
      "source": [
        "soup = BeautifulSoup(request.text)"
      ],
      "metadata": {
        "id": "FNe8WmH3pgfT"
      },
      "execution_count": null,
      "outputs": []
    },
    {
      "cell_type": "code",
      "source": [
        "titles = soup.findAll('div', {'class':'rank01'})\n",
        "# print(titles)\n",
        "artists = soup.findAll('span', {'class':'checkEllipsis'})\n",
        "print(artists)"
      ],
      "metadata": {
        "colab": {
          "base_uri": "https://localhost:8080/"
        },
        "id": "vn3UJ72DpiFi",
        "outputId": "0c579f35-ef0e-4c94-9c33-bf9954f6447d"
      },
      "execution_count": null,
      "outputs": [
        {
          "output_type": "stream",
          "name": "stdout",
          "text": [
            "[<span class=\"checkEllipsis\" style=\"display:none\"><a href=\"javascript:melon.link.goArtistDetail('3114174');\" title=\"NewJeans - 페이지 이동\">NewJeans</a></span>, <span class=\"checkEllipsis\" style=\"display:none\"><a href=\"javascript:melon.link.goArtistDetail('3110856');\" title=\"WSG워너비 (가야G) - 페이지 이동\">WSG워너비 (가야G)</a></span>, <span class=\"checkEllipsis\" style=\"display:none\"><a href=\"javascript:melon.link.goArtistDetail('3110857');\" title=\"WSG워너비 (4FIRE) - 페이지 이동\">WSG워너비 (4FIRE)</a></span>, <span class=\"checkEllipsis\" style=\"display:none\"><a href=\"javascript:melon.link.goArtistDetail('3055146');\" title=\"IVE (아이브) - 페이지 이동\">IVE (아이브)</a></span>, <span class=\"checkEllipsis\" style=\"display:none\"><a href=\"javascript:melon.link.goArtistDetail('3114174');\" title=\"NewJeans - 페이지 이동\">NewJeans</a></span>, <span class=\"checkEllipsis\" style=\"display:none\"><a href=\"javascript:melon.link.goArtistDetail('2622030');\" title=\"ITZY (있지) - 페이지 이동\">ITZY (있지)</a></span>, <span class=\"checkEllipsis\" style=\"display:none\"><a href=\"javascript:melon.link.goArtistDetail('906641');\" title=\"나연 (TWICE) - 페이지 이동\">나연 (TWICE)</a></span>, <span class=\"checkEllipsis\" style=\"display:none\"><a href=\"javascript:melon.link.goArtistDetail('2137482');\" title=\"(여자)아이들 - 페이지 이동\">(여자)아이들</a></span>, <span class=\"checkEllipsis\" style=\"display:none\"><a href=\"javascript:melon.link.goArtistDetail('3865');\" title=\"싸이 (PSY) - 페이지 이동\">싸이 (PSY)</a></span>, <span class=\"checkEllipsis\" style=\"display:none\"><a href=\"javascript:melon.link.goArtistDetail('2744750');\" title=\"BIG Naughty (서동현) - 페이지 이동\">BIG Naughty (서동현)</a></span>, <span class=\"checkEllipsis\" style=\"display:none\"><a href=\"javascript:melon.link.goArtistDetail('994005');\" title=\"경서 - 페이지 이동\">경서</a></span>, <span class=\"checkEllipsis\" style=\"display:none\"><a href=\"javascript:melon.link.goArtistDetail('994944');\" title=\"임영웅 - 페이지 이동\">임영웅</a></span>, <span class=\"checkEllipsis\" style=\"display:none\"><a href=\"javascript:melon.link.goArtistDetail('839732');\" title=\"멜로망스 - 페이지 이동\">멜로망스</a></span>, <span class=\"checkEllipsis\" style=\"display:none\"><a href=\"javascript:melon.link.goArtistDetail('468244');\" title=\"10CM - 페이지 이동\">10CM</a></span>, <span class=\"checkEllipsis\" style=\"display:none\"><a href=\"javascript:melon.link.goArtistDetail('2899555');\" title=\"aespa - 페이지 이동\">aespa</a></span>, <span class=\"checkEllipsis\" style=\"display:none\"><a href=\"javascript:melon.link.goArtistDetail('994944');\" title=\"임영웅 - 페이지 이동\">임영웅</a></span>, <span class=\"checkEllipsis\" style=\"display:none\"><a href=\"javascript:melon.link.goArtistDetail('2899555');\" title=\"aespa - 페이지 이동\">aespa</a></span>, <span class=\"checkEllipsis\" style=\"display:none\"><a href=\"javascript:melon.link.goArtistDetail('792022');\" title=\"볼빨간사춘기 - 페이지 이동\">볼빨간사춘기</a></span>, <span class=\"checkEllipsis\" style=\"display:none\"><a href=\"javascript:melon.link.goArtistDetail('228069');\" title=\"소녀시대 (GIRLS' GENERATION) - 페이지 이동\">소녀시대 (GIRLS' GENERATION)</a></span>, <span class=\"checkEllipsis\" style=\"display:none\"><a href=\"javascript:melon.link.goArtistDetail('3092950');\" title=\"LE SSERAFIM (르세라핌) - 페이지 이동\">LE SSERAFIM (르세라핌)</a></span>, <span class=\"checkEllipsis\" style=\"display:none\"><a href=\"javascript:melon.link.goArtistDetail('683631');\" title=\"주호 - 페이지 이동\">주호</a></span>, <span class=\"checkEllipsis\" style=\"display:none\"><a href=\"javascript:melon.link.goArtistDetail('994944');\" title=\"임영웅 - 페이지 이동\">임영웅</a></span>, <span class=\"checkEllipsis\" style=\"display:none\"><a href=\"javascript:melon.link.goArtistDetail('2758756');\" title=\"BE'O (비오) - 페이지 이동\">BE'O (비오)</a></span>, <span class=\"checkEllipsis\" style=\"display:none\"><a href=\"javascript:melon.link.goArtistDetail('198094');\" title=\"BIGBANG (빅뱅) - 페이지 이동\">BIGBANG (빅뱅)</a></span>, <span class=\"checkEllipsis\" style=\"display:none\"><a href=\"javascript:melon.link.goArtistDetail('994944');\" title=\"임영웅 - 페이지 이동\">임영웅</a></span>, <span class=\"checkEllipsis\" style=\"display:none\"><a href=\"javascript:melon.link.goArtistDetail('3114174');\" title=\"NewJeans - 페이지 이동\">NewJeans</a></span>, <span class=\"checkEllipsis\" style=\"display:none\"><a href=\"javascript:melon.link.goArtistDetail('839736');\" title=\"김민석 (멜로망스) - 페이지 이동\">김민석 (멜로망스)</a></span>, <span class=\"checkEllipsis\" style=\"display:none\"><a href=\"javascript:melon.link.goArtistDetail('3055146');\" title=\"IVE (아이브) - 페이지 이동\">IVE (아이브)</a></span>, <span class=\"checkEllipsis\" style=\"display:none\"><a href=\"javascript:melon.link.goArtistDetail('994944');\" title=\"임영웅 - 페이지 이동\">임영웅</a></span>, <span class=\"checkEllipsis\" style=\"display:none\"><a href=\"javascript:melon.link.goArtistDetail('22938');\" title=\"선미 - 페이지 이동\">선미</a></span>, <span class=\"checkEllipsis\" style=\"display:none\"><a href=\"javascript:melon.link.goArtistDetail('994944');\" title=\"임영웅 - 페이지 이동\">임영웅</a></span>, <span class=\"checkEllipsis\" style=\"display:none\"><a href=\"javascript:melon.link.goArtistDetail('2863470');\" title=\"경서예지 - 페이지 이동\">경서예지</a>, <a href=\"javascript:melon.link.goArtistDetail('2739011');\" title=\"전건호 - 페이지 이동\">전건호</a></span>, <span class=\"checkEllipsis\" style=\"display:none\"><a href=\"javascript:melon.link.goArtistDetail('780066');\" title=\"Red Velvet (레드벨벳) - 페이지 이동\">Red Velvet (레드벨벳)</a></span>, <span class=\"checkEllipsis\" style=\"display:none\"><a href=\"javascript:melon.link.goArtistDetail('3110858');\" title=\"WSG워너비 (오아시소) - 페이지 이동\">WSG워너비 (오아시소)</a></span>, <span class=\"checkEllipsis\" style=\"display:none\"><a href=\"javascript:melon.link.goArtistDetail('994944');\" title=\"임영웅 - 페이지 이동\">임영웅</a></span>, <span class=\"checkEllipsis\" style=\"display:none\"><a href=\"javascript:melon.link.goArtistDetail('994944');\" title=\"임영웅 - 페이지 이동\">임영웅</a></span>, <span class=\"checkEllipsis\" style=\"display:none\"><a href=\"javascript:melon.link.goArtistDetail('2138620');\" title=\"이무진 - 페이지 이동\">이무진</a></span>, <span class=\"checkEllipsis\" style=\"display:none\"><a href=\"javascript:melon.link.goArtistDetail('1024489');\" title=\"#안녕 - 페이지 이동\">#안녕</a></span>, <span class=\"checkEllipsis\" style=\"display:none\"><a href=\"javascript:melon.link.goArtistDetail('838654');\" title=\"Charlie Puth - 페이지 이동\">Charlie Puth</a></span>, <span class=\"checkEllipsis\" style=\"display:none\"><a href=\"javascript:melon.link.goArtistDetail('994944');\" title=\"임영웅 - 페이지 이동\">임영웅</a></span>, <span class=\"checkEllipsis\" style=\"display:none\"><a href=\"javascript:melon.link.goArtistDetail('2743730');\" title=\"The Kid LAROI - 페이지 이동\">The Kid LAROI</a>, <a href=\"javascript:melon.link.goArtistDetail('420621');\" title=\"Justin Bieber - 페이지 이동\">Justin Bieber</a></span>, <span class=\"checkEllipsis\" style=\"display:none\"><a href=\"javascript:melon.link.goArtistDetail('775197');\" title=\"WINNER - 페이지 이동\">WINNER</a></span>, <span class=\"checkEllipsis\" style=\"display:none\"><a href=\"javascript:melon.link.goArtistDetail('672375');\" title=\"방탄소년단 - 페이지 이동\">방탄소년단</a></span>, <span class=\"checkEllipsis\" style=\"display:none\"><a href=\"javascript:melon.link.goArtistDetail('994944');\" title=\"임영웅 - 페이지 이동\">임영웅</a></span>, <span class=\"checkEllipsis\" style=\"display:none\"><a href=\"javascript:melon.link.goArtistDetail('838654');\" title=\"Charlie Puth - 페이지 이동\">Charlie Puth</a>, <a href=\"javascript:melon.link.goArtistDetail('725987');\" title=\"정국 - 페이지 이동\">정국</a>, <a href=\"javascript:melon.link.goArtistDetail('672375');\" title=\"방탄소년단 - 페이지 이동\">방탄소년단</a></span>, <span class=\"checkEllipsis\" style=\"display:none\"><a href=\"javascript:melon.link.goArtistDetail('2880487');\" title=\"주시크 (Joosiq) - 페이지 이동\">주시크 (Joosiq)</a></span>, <span class=\"checkEllipsis\" style=\"display:none\"><a href=\"javascript:melon.link.goArtistDetail('994944');\" title=\"임영웅 - 페이지 이동\">임영웅</a></span>, <span class=\"checkEllipsis\" style=\"display:none\"><a href=\"javascript:melon.link.goArtistDetail('205858');\" title=\"이석훈 - 페이지 이동\">이석훈</a></span>, <span class=\"checkEllipsis\" style=\"display:none\"><a href=\"javascript:melon.link.goArtistDetail('3305');\" title=\"성시경 - 페이지 이동\">성시경</a></span>, <span class=\"checkEllipsis\" style=\"display:none\"><a href=\"javascript:melon.link.goArtistDetail('672375');\" title=\"방탄소년단 - 페이지 이동\">방탄소년단</a></span>, <span class=\"checkEllipsis\" style=\"display:none\"><a href=\"javascript:melon.link.goArtistDetail('2137482');\" title=\"(여자)아이들 - 페이지 이동\">(여자)아이들</a></span>, <span class=\"checkEllipsis\" style=\"display:none\"><a href=\"javascript:melon.link.goArtistDetail('443420');\" title=\"박재범 - 페이지 이동\">박재범</a></span>, <span class=\"checkEllipsis\" style=\"display:none\"><a href=\"javascript:melon.link.goArtistDetail('236797');\" title=\"태연 (TAEYEON) - 페이지 이동\">태연 (TAEYEON)</a></span>, <span class=\"checkEllipsis\" style=\"display:none\"><a href=\"javascript:melon.link.goArtistDetail('994944');\" title=\"임영웅 - 페이지 이동\">임영웅</a></span>, <span class=\"checkEllipsis\" style=\"display:none\"><a href=\"javascript:melon.link.goArtistDetail('236797');\" title=\"태연 (TAEYEON) - 페이지 이동\">태연 (TAEYEON)</a></span>, <span class=\"checkEllipsis\" style=\"display:none\"><a href=\"javascript:melon.link.goArtistDetail('2939212');\" title=\"MSG워너비(M.O.M) - 페이지 이동\">MSG워너비(M.O.M)</a></span>, <span class=\"checkEllipsis\" style=\"display:none\"><a href=\"javascript:melon.link.goArtistDetail('827322');\" title=\"김승민 - 페이지 이동\">김승민</a></span>, <span class=\"checkEllipsis\" style=\"display:none\"><a href=\"javascript:melon.link.goArtistDetail('994944');\" title=\"임영웅 - 페이지 이동\">임영웅</a></span>, <span class=\"checkEllipsis\" style=\"display:none\"><a href=\"javascript:melon.link.goArtistDetail('861436');\" title=\"세븐틴 - 페이지 이동\">세븐틴</a></span>, <span class=\"checkEllipsis\" style=\"display:none\"><a href=\"javascript:melon.link.goArtistDetail('994944');\" title=\"임영웅 - 페이지 이동\">임영웅</a></span>, <span class=\"checkEllipsis\" style=\"display:none\"><a href=\"javascript:melon.link.goArtistDetail('672375');\" title=\"방탄소년단 - 페이지 이동\">방탄소년단</a></span>, <span class=\"checkEllipsis\" style=\"display:none\"><a href=\"javascript:melon.link.goArtistDetail('2899555');\" title=\"aespa - 페이지 이동\">aespa</a></span>, <span class=\"checkEllipsis\" style=\"display:none\"><a href=\"javascript:melon.link.goArtistDetail('2899290');\" title=\"STAYC(스테이씨) - 페이지 이동\">STAYC(스테이씨)</a></span>, <span class=\"checkEllipsis\" style=\"display:none\"><a href=\"javascript:melon.link.goArtistDetail('858125');\" title=\"케이시 (Kassy) - 페이지 이동\">케이시 (Kassy)</a></span>, <span class=\"checkEllipsis\" style=\"display:none\"><a href=\"javascript:melon.link.goArtistDetail('231983');\" title=\"OneRepublic - 페이지 이동\">OneRepublic</a></span>, <span class=\"checkEllipsis\" style=\"display:none\"><a href=\"javascript:melon.link.goArtistDetail('2399724');\" title=\"YENA (최예나) - 페이지 이동\">YENA (최예나)</a></span>, <span class=\"checkEllipsis\" style=\"display:none\"><a href=\"javascript:melon.link.goArtistDetail('672375');\" title=\"방탄소년단 - 페이지 이동\">방탄소년단</a></span>, <span class=\"checkEllipsis\" style=\"display:none\"><a href=\"javascript:melon.link.goArtistDetail('2880487');\" title=\"주시크 (Joosiq) - 페이지 이동\">주시크 (Joosiq)</a></span>, <span class=\"checkEllipsis\" style=\"display:none\"><a href=\"javascript:melon.link.goArtistDetail('861436');\" title=\"세븐틴 - 페이지 이동\">세븐틴</a></span>, <span class=\"checkEllipsis\" style=\"display:none\"><a href=\"javascript:melon.link.goArtistDetail('994005');\" title=\"경서 - 페이지 이동\">경서</a></span>, <span class=\"checkEllipsis\" style=\"display:none\"><a href=\"javascript:melon.link.goArtistDetail('968265');\" title=\"청하 - 페이지 이동\">청하</a></span>, <span class=\"checkEllipsis\" style=\"display:none\"><a href=\"javascript:melon.link.goArtistDetail('2939212');\" title=\"MSG워너비(M.O.M) - 페이지 이동\">MSG워너비(M.O.M)</a></span>, <span class=\"checkEllipsis\" style=\"display:none\"><a href=\"javascript:melon.link.goArtistDetail('711476');\" title=\"한동근 - 페이지 이동\">한동근</a></span>, <span class=\"checkEllipsis\" style=\"display:none\"><a href=\"javascript:melon.link.goArtistDetail('236815');\" title=\"다비치 - 페이지 이동\">다비치</a></span>, <span class=\"checkEllipsis\" style=\"display:none\"><a href=\"javascript:melon.link.goArtistDetail('2087273');\" title=\"임재현 - 페이지 이동\">임재현</a></span>, <span class=\"checkEllipsis\" style=\"display:none\"><a href=\"javascript:melon.link.goArtistDetail('261143');\" title=\"아이유 - 페이지 이동\">아이유</a></span>, <span class=\"checkEllipsis\" style=\"display:none\"><a href=\"javascript:melon.link.goArtistDetail('2561475');\" title=\"sokodomo - 페이지 이동\">sokodomo</a></span>, <span class=\"checkEllipsis\" style=\"display:none\"><a href=\"javascript:melon.link.goArtistDetail('261143');\" title=\"아이유 - 페이지 이동\">아이유</a></span>, <span class=\"checkEllipsis\" style=\"display:none\"><a href=\"javascript:melon.link.goArtistDetail('420621');\" title=\"Justin Bieber - 페이지 이동\">Justin Bieber</a></span>, <span class=\"checkEllipsis\" style=\"display:none\"><a href=\"javascript:melon.link.goArtistDetail('752425');\" title=\"폴킴 - 페이지 이동\">폴킴</a></span>, <span class=\"checkEllipsis\" style=\"display:none\"><a href=\"javascript:melon.link.goArtistDetail('3101552');\" title=\"WSG워너비 - 페이지 이동\">WSG워너비</a></span>, <span class=\"checkEllipsis\" style=\"display:none\"><a href=\"javascript:melon.link.goArtistDetail('261143');\" title=\"아이유 - 페이지 이동\">아이유</a></span>, <span class=\"checkEllipsis\" style=\"display:none\"><a href=\"javascript:melon.link.goArtistDetail('858125');\" title=\"케이시 (Kassy) - 페이지 이동\">케이시 (Kassy)</a></span>, <span class=\"checkEllipsis\" style=\"display:none\"><a href=\"javascript:melon.link.goArtistDetail('672375');\" title=\"방탄소년단 - 페이지 이동\">방탄소년단</a></span>, <span class=\"checkEllipsis\" style=\"display:none\"><a href=\"javascript:melon.link.goArtistDetail('858125');\" title=\"케이시 (Kassy) - 페이지 이동\">케이시 (Kassy)</a></span>, <span class=\"checkEllipsis\" style=\"display:none\"><a href=\"javascript:melon.link.goArtistDetail('785501');\" title=\"디핵 (D-Hack) - 페이지 이동\">디핵 (D-Hack)</a>, <a href=\"javascript:melon.link.goArtistDetail('2750866');\" title=\"PATEKO (파테코) - 페이지 이동\">PATEKO (파테코)</a></span>, <span class=\"checkEllipsis\" style=\"display:none\"><a href=\"javascript:melon.link.goArtistDetail('2758756');\" title=\"BE'O (비오) - 페이지 이동\">BE'O (비오)</a></span>, <span class=\"checkEllipsis\" style=\"display:none\"><a href=\"javascript:melon.link.goArtistDetail('531700');\" title=\"브레이브걸스 - 페이지 이동\">브레이브걸스</a></span>, <span class=\"checkEllipsis\" style=\"display:none\"><a href=\"javascript:melon.link.goArtistDetail('100260');\" title=\"Coldplay - 페이지 이동\">Coldplay</a>, <a href=\"javascript:melon.link.goArtistDetail('672375');\" title=\"방탄소년단 - 페이지 이동\">방탄소년단</a></span>, <span class=\"checkEllipsis\" style=\"display:none\"><a href=\"javascript:melon.link.goArtistDetail('261143');\" title=\"아이유 - 페이지 이동\">아이유</a></span>, <span class=\"checkEllipsis\" style=\"display:none\"><a href=\"javascript:melon.link.goArtistDetail('108794');\" title=\"V.O.S - 페이지 이동\">V.O.S</a></span>, <span class=\"checkEllipsis\" style=\"display:none\"><a href=\"javascript:melon.link.goArtistDetail('725985');\" title=\"지민 - 페이지 이동\">지민</a>, <a href=\"javascript:melon.link.goArtistDetail('875152');\" title=\"하성운 - 페이지 이동\">하성운</a></span>, <span class=\"checkEllipsis\" style=\"display:none\"><a href=\"javascript:melon.link.goArtistDetail('683631');\" title=\"주호 - 페이지 이동\">주호</a></span>, <span class=\"checkEllipsis\" style=\"display:none\"><a href=\"javascript:melon.link.goArtistDetail('261143');\" title=\"아이유 - 페이지 이동\">아이유</a></span>, <span class=\"checkEllipsis\" style=\"display:none\"><a href=\"javascript:melon.link.goArtistDetail('176393');\" title=\"제시 (Jessi) - 페이지 이동\">제시 (Jessi)</a></span>, <span class=\"checkEllipsis\" style=\"display:none\"><a href=\"javascript:melon.link.goArtistDetail('100094');\" title=\"자우림 - 페이지 이동\">자우림</a></span>, <span class=\"checkEllipsis\" style=\"display:none\"><a href=\"javascript:melon.link.goArtistDetail('2899555');\" title=\"aespa - 페이지 이동\">aespa</a></span>, <span class=\"checkEllipsis\" style=\"display:none\"><a href=\"javascript:melon.link.goArtistDetail('861436');\" title=\"세븐틴 - 페이지 이동\">세븐틴</a></span>, <span class=\"checkEllipsis\" style=\"display:none\"><a href=\"javascript:melon.link.goArtistDetail('2240003');\" title=\"benny blanco - 페이지 이동\">benny blanco</a>, <a href=\"javascript:melon.link.goArtistDetail('672375');\" title=\"방탄소년단 - 페이지 이동\">방탄소년단</a>, <a href=\"javascript:melon.link.goArtistDetail('10364');\" title=\"Snoop Dogg - 페이지 이동\">Snoop Dogg</a></span>, <span class=\"checkEllipsis\" style=\"display:none\"><a href=\"javascript:melon.link.goArtistDetail('2893700');\" title=\"탑현 - 페이지 이동\">탑현</a></span>]\n"
          ]
        }
      ]
    },
    {
      "cell_type": "code",
      "source": [
        "soup = BeautifulSoup(request.text)\n"
      ],
      "metadata": {
        "id": "OKVEZdDHpjQ9"
      },
      "execution_count": null,
      "outputs": []
    },
    {
      "cell_type": "code",
      "source": [
        "titles = soup.findAll('div', {'class':'rank01'})\n",
        "# print(titles) # 복잡하니까 주석처리 함 \n",
        "artists = soup.findAll('span', {'class':'checkEllipsis'})\n",
        "print(artists)"
      ],
      "metadata": {
        "colab": {
          "base_uri": "https://localhost:8080/"
        },
        "id": "IhtgPbcL-9MR",
        "outputId": "ba148ecb-9ac2-4817-9c75-f4eb1dcd7e6e"
      },
      "execution_count": null,
      "outputs": [
        {
          "output_type": "stream",
          "name": "stdout",
          "text": [
            "[<span class=\"checkEllipsis\" style=\"display:none\"><a href=\"javascript:melon.link.goArtistDetail('3114174');\" title=\"NewJeans - 페이지 이동\">NewJeans</a></span>, <span class=\"checkEllipsis\" style=\"display:none\"><a href=\"javascript:melon.link.goArtistDetail('3110856');\" title=\"WSG워너비 (가야G) - 페이지 이동\">WSG워너비 (가야G)</a></span>, <span class=\"checkEllipsis\" style=\"display:none\"><a href=\"javascript:melon.link.goArtistDetail('3110857');\" title=\"WSG워너비 (4FIRE) - 페이지 이동\">WSG워너비 (4FIRE)</a></span>, <span class=\"checkEllipsis\" style=\"display:none\"><a href=\"javascript:melon.link.goArtistDetail('3055146');\" title=\"IVE (아이브) - 페이지 이동\">IVE (아이브)</a></span>, <span class=\"checkEllipsis\" style=\"display:none\"><a href=\"javascript:melon.link.goArtistDetail('3114174');\" title=\"NewJeans - 페이지 이동\">NewJeans</a></span>, <span class=\"checkEllipsis\" style=\"display:none\"><a href=\"javascript:melon.link.goArtistDetail('2622030');\" title=\"ITZY (있지) - 페이지 이동\">ITZY (있지)</a></span>, <span class=\"checkEllipsis\" style=\"display:none\"><a href=\"javascript:melon.link.goArtistDetail('906641');\" title=\"나연 (TWICE) - 페이지 이동\">나연 (TWICE)</a></span>, <span class=\"checkEllipsis\" style=\"display:none\"><a href=\"javascript:melon.link.goArtistDetail('2137482');\" title=\"(여자)아이들 - 페이지 이동\">(여자)아이들</a></span>, <span class=\"checkEllipsis\" style=\"display:none\"><a href=\"javascript:melon.link.goArtistDetail('3865');\" title=\"싸이 (PSY) - 페이지 이동\">싸이 (PSY)</a></span>, <span class=\"checkEllipsis\" style=\"display:none\"><a href=\"javascript:melon.link.goArtistDetail('2744750');\" title=\"BIG Naughty (서동현) - 페이지 이동\">BIG Naughty (서동현)</a></span>, <span class=\"checkEllipsis\" style=\"display:none\"><a href=\"javascript:melon.link.goArtistDetail('994005');\" title=\"경서 - 페이지 이동\">경서</a></span>, <span class=\"checkEllipsis\" style=\"display:none\"><a href=\"javascript:melon.link.goArtistDetail('994944');\" title=\"임영웅 - 페이지 이동\">임영웅</a></span>, <span class=\"checkEllipsis\" style=\"display:none\"><a href=\"javascript:melon.link.goArtistDetail('839732');\" title=\"멜로망스 - 페이지 이동\">멜로망스</a></span>, <span class=\"checkEllipsis\" style=\"display:none\"><a href=\"javascript:melon.link.goArtistDetail('468244');\" title=\"10CM - 페이지 이동\">10CM</a></span>, <span class=\"checkEllipsis\" style=\"display:none\"><a href=\"javascript:melon.link.goArtistDetail('2899555');\" title=\"aespa - 페이지 이동\">aespa</a></span>, <span class=\"checkEllipsis\" style=\"display:none\"><a href=\"javascript:melon.link.goArtistDetail('994944');\" title=\"임영웅 - 페이지 이동\">임영웅</a></span>, <span class=\"checkEllipsis\" style=\"display:none\"><a href=\"javascript:melon.link.goArtistDetail('2899555');\" title=\"aespa - 페이지 이동\">aespa</a></span>, <span class=\"checkEllipsis\" style=\"display:none\"><a href=\"javascript:melon.link.goArtistDetail('792022');\" title=\"볼빨간사춘기 - 페이지 이동\">볼빨간사춘기</a></span>, <span class=\"checkEllipsis\" style=\"display:none\"><a href=\"javascript:melon.link.goArtistDetail('228069');\" title=\"소녀시대 (GIRLS' GENERATION) - 페이지 이동\">소녀시대 (GIRLS' GENERATION)</a></span>, <span class=\"checkEllipsis\" style=\"display:none\"><a href=\"javascript:melon.link.goArtistDetail('3092950');\" title=\"LE SSERAFIM (르세라핌) - 페이지 이동\">LE SSERAFIM (르세라핌)</a></span>, <span class=\"checkEllipsis\" style=\"display:none\"><a href=\"javascript:melon.link.goArtistDetail('683631');\" title=\"주호 - 페이지 이동\">주호</a></span>, <span class=\"checkEllipsis\" style=\"display:none\"><a href=\"javascript:melon.link.goArtistDetail('994944');\" title=\"임영웅 - 페이지 이동\">임영웅</a></span>, <span class=\"checkEllipsis\" style=\"display:none\"><a href=\"javascript:melon.link.goArtistDetail('2758756');\" title=\"BE'O (비오) - 페이지 이동\">BE'O (비오)</a></span>, <span class=\"checkEllipsis\" style=\"display:none\"><a href=\"javascript:melon.link.goArtistDetail('198094');\" title=\"BIGBANG (빅뱅) - 페이지 이동\">BIGBANG (빅뱅)</a></span>, <span class=\"checkEllipsis\" style=\"display:none\"><a href=\"javascript:melon.link.goArtistDetail('994944');\" title=\"임영웅 - 페이지 이동\">임영웅</a></span>, <span class=\"checkEllipsis\" style=\"display:none\"><a href=\"javascript:melon.link.goArtistDetail('3114174');\" title=\"NewJeans - 페이지 이동\">NewJeans</a></span>, <span class=\"checkEllipsis\" style=\"display:none\"><a href=\"javascript:melon.link.goArtistDetail('839736');\" title=\"김민석 (멜로망스) - 페이지 이동\">김민석 (멜로망스)</a></span>, <span class=\"checkEllipsis\" style=\"display:none\"><a href=\"javascript:melon.link.goArtistDetail('3055146');\" title=\"IVE (아이브) - 페이지 이동\">IVE (아이브)</a></span>, <span class=\"checkEllipsis\" style=\"display:none\"><a href=\"javascript:melon.link.goArtistDetail('994944');\" title=\"임영웅 - 페이지 이동\">임영웅</a></span>, <span class=\"checkEllipsis\" style=\"display:none\"><a href=\"javascript:melon.link.goArtistDetail('22938');\" title=\"선미 - 페이지 이동\">선미</a></span>, <span class=\"checkEllipsis\" style=\"display:none\"><a href=\"javascript:melon.link.goArtistDetail('994944');\" title=\"임영웅 - 페이지 이동\">임영웅</a></span>, <span class=\"checkEllipsis\" style=\"display:none\"><a href=\"javascript:melon.link.goArtistDetail('2863470');\" title=\"경서예지 - 페이지 이동\">경서예지</a>, <a href=\"javascript:melon.link.goArtistDetail('2739011');\" title=\"전건호 - 페이지 이동\">전건호</a></span>, <span class=\"checkEllipsis\" style=\"display:none\"><a href=\"javascript:melon.link.goArtistDetail('780066');\" title=\"Red Velvet (레드벨벳) - 페이지 이동\">Red Velvet (레드벨벳)</a></span>, <span class=\"checkEllipsis\" style=\"display:none\"><a href=\"javascript:melon.link.goArtistDetail('3110858');\" title=\"WSG워너비 (오아시소) - 페이지 이동\">WSG워너비 (오아시소)</a></span>, <span class=\"checkEllipsis\" style=\"display:none\"><a href=\"javascript:melon.link.goArtistDetail('994944');\" title=\"임영웅 - 페이지 이동\">임영웅</a></span>, <span class=\"checkEllipsis\" style=\"display:none\"><a href=\"javascript:melon.link.goArtistDetail('994944');\" title=\"임영웅 - 페이지 이동\">임영웅</a></span>, <span class=\"checkEllipsis\" style=\"display:none\"><a href=\"javascript:melon.link.goArtistDetail('2138620');\" title=\"이무진 - 페이지 이동\">이무진</a></span>, <span class=\"checkEllipsis\" style=\"display:none\"><a href=\"javascript:melon.link.goArtistDetail('1024489');\" title=\"#안녕 - 페이지 이동\">#안녕</a></span>, <span class=\"checkEllipsis\" style=\"display:none\"><a href=\"javascript:melon.link.goArtistDetail('838654');\" title=\"Charlie Puth - 페이지 이동\">Charlie Puth</a></span>, <span class=\"checkEllipsis\" style=\"display:none\"><a href=\"javascript:melon.link.goArtistDetail('994944');\" title=\"임영웅 - 페이지 이동\">임영웅</a></span>, <span class=\"checkEllipsis\" style=\"display:none\"><a href=\"javascript:melon.link.goArtistDetail('2743730');\" title=\"The Kid LAROI - 페이지 이동\">The Kid LAROI</a>, <a href=\"javascript:melon.link.goArtistDetail('420621');\" title=\"Justin Bieber - 페이지 이동\">Justin Bieber</a></span>, <span class=\"checkEllipsis\" style=\"display:none\"><a href=\"javascript:melon.link.goArtistDetail('775197');\" title=\"WINNER - 페이지 이동\">WINNER</a></span>, <span class=\"checkEllipsis\" style=\"display:none\"><a href=\"javascript:melon.link.goArtistDetail('672375');\" title=\"방탄소년단 - 페이지 이동\">방탄소년단</a></span>, <span class=\"checkEllipsis\" style=\"display:none\"><a href=\"javascript:melon.link.goArtistDetail('994944');\" title=\"임영웅 - 페이지 이동\">임영웅</a></span>, <span class=\"checkEllipsis\" style=\"display:none\"><a href=\"javascript:melon.link.goArtistDetail('838654');\" title=\"Charlie Puth - 페이지 이동\">Charlie Puth</a>, <a href=\"javascript:melon.link.goArtistDetail('725987');\" title=\"정국 - 페이지 이동\">정국</a>, <a href=\"javascript:melon.link.goArtistDetail('672375');\" title=\"방탄소년단 - 페이지 이동\">방탄소년단</a></span>, <span class=\"checkEllipsis\" style=\"display:none\"><a href=\"javascript:melon.link.goArtistDetail('2880487');\" title=\"주시크 (Joosiq) - 페이지 이동\">주시크 (Joosiq)</a></span>, <span class=\"checkEllipsis\" style=\"display:none\"><a href=\"javascript:melon.link.goArtistDetail('994944');\" title=\"임영웅 - 페이지 이동\">임영웅</a></span>, <span class=\"checkEllipsis\" style=\"display:none\"><a href=\"javascript:melon.link.goArtistDetail('205858');\" title=\"이석훈 - 페이지 이동\">이석훈</a></span>, <span class=\"checkEllipsis\" style=\"display:none\"><a href=\"javascript:melon.link.goArtistDetail('3305');\" title=\"성시경 - 페이지 이동\">성시경</a></span>, <span class=\"checkEllipsis\" style=\"display:none\"><a href=\"javascript:melon.link.goArtistDetail('672375');\" title=\"방탄소년단 - 페이지 이동\">방탄소년단</a></span>, <span class=\"checkEllipsis\" style=\"display:none\"><a href=\"javascript:melon.link.goArtistDetail('2137482');\" title=\"(여자)아이들 - 페이지 이동\">(여자)아이들</a></span>, <span class=\"checkEllipsis\" style=\"display:none\"><a href=\"javascript:melon.link.goArtistDetail('443420');\" title=\"박재범 - 페이지 이동\">박재범</a></span>, <span class=\"checkEllipsis\" style=\"display:none\"><a href=\"javascript:melon.link.goArtistDetail('236797');\" title=\"태연 (TAEYEON) - 페이지 이동\">태연 (TAEYEON)</a></span>, <span class=\"checkEllipsis\" style=\"display:none\"><a href=\"javascript:melon.link.goArtistDetail('994944');\" title=\"임영웅 - 페이지 이동\">임영웅</a></span>, <span class=\"checkEllipsis\" style=\"display:none\"><a href=\"javascript:melon.link.goArtistDetail('236797');\" title=\"태연 (TAEYEON) - 페이지 이동\">태연 (TAEYEON)</a></span>, <span class=\"checkEllipsis\" style=\"display:none\"><a href=\"javascript:melon.link.goArtistDetail('2939212');\" title=\"MSG워너비(M.O.M) - 페이지 이동\">MSG워너비(M.O.M)</a></span>, <span class=\"checkEllipsis\" style=\"display:none\"><a href=\"javascript:melon.link.goArtistDetail('827322');\" title=\"김승민 - 페이지 이동\">김승민</a></span>, <span class=\"checkEllipsis\" style=\"display:none\"><a href=\"javascript:melon.link.goArtistDetail('994944');\" title=\"임영웅 - 페이지 이동\">임영웅</a></span>, <span class=\"checkEllipsis\" style=\"display:none\"><a href=\"javascript:melon.link.goArtistDetail('861436');\" title=\"세븐틴 - 페이지 이동\">세븐틴</a></span>, <span class=\"checkEllipsis\" style=\"display:none\"><a href=\"javascript:melon.link.goArtistDetail('994944');\" title=\"임영웅 - 페이지 이동\">임영웅</a></span>, <span class=\"checkEllipsis\" style=\"display:none\"><a href=\"javascript:melon.link.goArtistDetail('672375');\" title=\"방탄소년단 - 페이지 이동\">방탄소년단</a></span>, <span class=\"checkEllipsis\" style=\"display:none\"><a href=\"javascript:melon.link.goArtistDetail('2899555');\" title=\"aespa - 페이지 이동\">aespa</a></span>, <span class=\"checkEllipsis\" style=\"display:none\"><a href=\"javascript:melon.link.goArtistDetail('2899290');\" title=\"STAYC(스테이씨) - 페이지 이동\">STAYC(스테이씨)</a></span>, <span class=\"checkEllipsis\" style=\"display:none\"><a href=\"javascript:melon.link.goArtistDetail('858125');\" title=\"케이시 (Kassy) - 페이지 이동\">케이시 (Kassy)</a></span>, <span class=\"checkEllipsis\" style=\"display:none\"><a href=\"javascript:melon.link.goArtistDetail('231983');\" title=\"OneRepublic - 페이지 이동\">OneRepublic</a></span>, <span class=\"checkEllipsis\" style=\"display:none\"><a href=\"javascript:melon.link.goArtistDetail('2399724');\" title=\"YENA (최예나) - 페이지 이동\">YENA (최예나)</a></span>, <span class=\"checkEllipsis\" style=\"display:none\"><a href=\"javascript:melon.link.goArtistDetail('672375');\" title=\"방탄소년단 - 페이지 이동\">방탄소년단</a></span>, <span class=\"checkEllipsis\" style=\"display:none\"><a href=\"javascript:melon.link.goArtistDetail('2880487');\" title=\"주시크 (Joosiq) - 페이지 이동\">주시크 (Joosiq)</a></span>, <span class=\"checkEllipsis\" style=\"display:none\"><a href=\"javascript:melon.link.goArtistDetail('861436');\" title=\"세븐틴 - 페이지 이동\">세븐틴</a></span>, <span class=\"checkEllipsis\" style=\"display:none\"><a href=\"javascript:melon.link.goArtistDetail('994005');\" title=\"경서 - 페이지 이동\">경서</a></span>, <span class=\"checkEllipsis\" style=\"display:none\"><a href=\"javascript:melon.link.goArtistDetail('968265');\" title=\"청하 - 페이지 이동\">청하</a></span>, <span class=\"checkEllipsis\" style=\"display:none\"><a href=\"javascript:melon.link.goArtistDetail('2939212');\" title=\"MSG워너비(M.O.M) - 페이지 이동\">MSG워너비(M.O.M)</a></span>, <span class=\"checkEllipsis\" style=\"display:none\"><a href=\"javascript:melon.link.goArtistDetail('711476');\" title=\"한동근 - 페이지 이동\">한동근</a></span>, <span class=\"checkEllipsis\" style=\"display:none\"><a href=\"javascript:melon.link.goArtistDetail('236815');\" title=\"다비치 - 페이지 이동\">다비치</a></span>, <span class=\"checkEllipsis\" style=\"display:none\"><a href=\"javascript:melon.link.goArtistDetail('2087273');\" title=\"임재현 - 페이지 이동\">임재현</a></span>, <span class=\"checkEllipsis\" style=\"display:none\"><a href=\"javascript:melon.link.goArtistDetail('261143');\" title=\"아이유 - 페이지 이동\">아이유</a></span>, <span class=\"checkEllipsis\" style=\"display:none\"><a href=\"javascript:melon.link.goArtistDetail('2561475');\" title=\"sokodomo - 페이지 이동\">sokodomo</a></span>, <span class=\"checkEllipsis\" style=\"display:none\"><a href=\"javascript:melon.link.goArtistDetail('261143');\" title=\"아이유 - 페이지 이동\">아이유</a></span>, <span class=\"checkEllipsis\" style=\"display:none\"><a href=\"javascript:melon.link.goArtistDetail('420621');\" title=\"Justin Bieber - 페이지 이동\">Justin Bieber</a></span>, <span class=\"checkEllipsis\" style=\"display:none\"><a href=\"javascript:melon.link.goArtistDetail('752425');\" title=\"폴킴 - 페이지 이동\">폴킴</a></span>, <span class=\"checkEllipsis\" style=\"display:none\"><a href=\"javascript:melon.link.goArtistDetail('3101552');\" title=\"WSG워너비 - 페이지 이동\">WSG워너비</a></span>, <span class=\"checkEllipsis\" style=\"display:none\"><a href=\"javascript:melon.link.goArtistDetail('261143');\" title=\"아이유 - 페이지 이동\">아이유</a></span>, <span class=\"checkEllipsis\" style=\"display:none\"><a href=\"javascript:melon.link.goArtistDetail('858125');\" title=\"케이시 (Kassy) - 페이지 이동\">케이시 (Kassy)</a></span>, <span class=\"checkEllipsis\" style=\"display:none\"><a href=\"javascript:melon.link.goArtistDetail('672375');\" title=\"방탄소년단 - 페이지 이동\">방탄소년단</a></span>, <span class=\"checkEllipsis\" style=\"display:none\"><a href=\"javascript:melon.link.goArtistDetail('858125');\" title=\"케이시 (Kassy) - 페이지 이동\">케이시 (Kassy)</a></span>, <span class=\"checkEllipsis\" style=\"display:none\"><a href=\"javascript:melon.link.goArtistDetail('785501');\" title=\"디핵 (D-Hack) - 페이지 이동\">디핵 (D-Hack)</a>, <a href=\"javascript:melon.link.goArtistDetail('2750866');\" title=\"PATEKO (파테코) - 페이지 이동\">PATEKO (파테코)</a></span>, <span class=\"checkEllipsis\" style=\"display:none\"><a href=\"javascript:melon.link.goArtistDetail('2758756');\" title=\"BE'O (비오) - 페이지 이동\">BE'O (비오)</a></span>, <span class=\"checkEllipsis\" style=\"display:none\"><a href=\"javascript:melon.link.goArtistDetail('531700');\" title=\"브레이브걸스 - 페이지 이동\">브레이브걸스</a></span>, <span class=\"checkEllipsis\" style=\"display:none\"><a href=\"javascript:melon.link.goArtistDetail('100260');\" title=\"Coldplay - 페이지 이동\">Coldplay</a>, <a href=\"javascript:melon.link.goArtistDetail('672375');\" title=\"방탄소년단 - 페이지 이동\">방탄소년단</a></span>, <span class=\"checkEllipsis\" style=\"display:none\"><a href=\"javascript:melon.link.goArtistDetail('261143');\" title=\"아이유 - 페이지 이동\">아이유</a></span>, <span class=\"checkEllipsis\" style=\"display:none\"><a href=\"javascript:melon.link.goArtistDetail('108794');\" title=\"V.O.S - 페이지 이동\">V.O.S</a></span>, <span class=\"checkEllipsis\" style=\"display:none\"><a href=\"javascript:melon.link.goArtistDetail('725985');\" title=\"지민 - 페이지 이동\">지민</a>, <a href=\"javascript:melon.link.goArtistDetail('875152');\" title=\"하성운 - 페이지 이동\">하성운</a></span>, <span class=\"checkEllipsis\" style=\"display:none\"><a href=\"javascript:melon.link.goArtistDetail('683631');\" title=\"주호 - 페이지 이동\">주호</a></span>, <span class=\"checkEllipsis\" style=\"display:none\"><a href=\"javascript:melon.link.goArtistDetail('261143');\" title=\"아이유 - 페이지 이동\">아이유</a></span>, <span class=\"checkEllipsis\" style=\"display:none\"><a href=\"javascript:melon.link.goArtistDetail('176393');\" title=\"제시 (Jessi) - 페이지 이동\">제시 (Jessi)</a></span>, <span class=\"checkEllipsis\" style=\"display:none\"><a href=\"javascript:melon.link.goArtistDetail('100094');\" title=\"자우림 - 페이지 이동\">자우림</a></span>, <span class=\"checkEllipsis\" style=\"display:none\"><a href=\"javascript:melon.link.goArtistDetail('2899555');\" title=\"aespa - 페이지 이동\">aespa</a></span>, <span class=\"checkEllipsis\" style=\"display:none\"><a href=\"javascript:melon.link.goArtistDetail('861436');\" title=\"세븐틴 - 페이지 이동\">세븐틴</a></span>, <span class=\"checkEllipsis\" style=\"display:none\"><a href=\"javascript:melon.link.goArtistDetail('2240003');\" title=\"benny blanco - 페이지 이동\">benny blanco</a>, <a href=\"javascript:melon.link.goArtistDetail('672375');\" title=\"방탄소년단 - 페이지 이동\">방탄소년단</a>, <a href=\"javascript:melon.link.goArtistDetail('10364');\" title=\"Snoop Dogg - 페이지 이동\">Snoop Dogg</a></span>, <span class=\"checkEllipsis\" style=\"display:none\"><a href=\"javascript:melon.link.goArtistDetail('2893700');\" title=\"탑현 - 페이지 이동\">탑현</a></span>]\n"
          ]
        }
      ]
    },
    {
      "cell_type": "code",
      "source": [
        "for i in range(len(titles)):\n",
        "  title = titles[i].text.strip()\n",
        "  artist = artists[i].text.strip()\n",
        "  print('{0:3d}위 {1} - {2}'.format(i+1, artist, title))"
      ],
      "metadata": {
        "colab": {
          "base_uri": "https://localhost:8080/"
        },
        "id": "l3OtKhBK_ETK",
        "outputId": "4b71745a-6c2d-4038-d8e2-a59ac31bff48"
      },
      "execution_count": null,
      "outputs": [
        {
          "output_type": "stream",
          "name": "stdout",
          "text": [
            "  1위 NewJeans - Attention\n",
            "  2위 WSG워너비 (가야G) - 그때 그 순간 그대로 (그그그)\n",
            "  3위 WSG워너비 (4FIRE) - 보고싶었어\n",
            "  4위 IVE (아이브) - LOVE DIVE\n",
            "  5위 NewJeans - Hype boy\n",
            "  6위 ITZY (있지) - SNEAKERS\n",
            "  7위 나연 (TWICE) - POP!\n",
            "  8위 (여자)아이들 - TOMBOY\n",
            "  9위 싸이 (PSY) - That That (prod. & feat. SUGA of BTS)\n",
            " 10위 BIG Naughty (서동현) - 정이라고 하자 (Feat. 10CM)\n",
            " 11위 경서 - 나의 X에게\n",
            " 12위 임영웅 - 사랑은 늘 도망가\n",
            " 13위 멜로망스 - 사랑인가 봐\n",
            " 14위 10CM - 그라데이션\n",
            " 15위 aespa - Girls\n",
            " 16위 임영웅 - 우리들의 블루스\n",
            " 17위 aespa - 도깨비불 (Illusion)\n",
            " 18위 볼빨간사춘기 - Love story\n",
            " 19위 소녀시대 (GIRLS' GENERATION) - FOREVER 1\n",
            " 20위 LE SSERAFIM (르세라핌) - FEARLESS\n",
            " 21위 주호 - 내가 아니라도\n",
            " 22위 임영웅 - 다시 만날 수 있을까\n",
            " 23위 BE'O (비오) - LOVE me\n",
            " 24위 BIGBANG (빅뱅) - 봄여름가을겨울 (Still Life)\n",
            " 25위 임영웅 - 무지개\n",
            " 26위 NewJeans - Cookie\n",
            " 27위 김민석 (멜로망스) - 취중고백\n",
            " 28위 IVE (아이브) - ELEVEN\n",
            " 29위 임영웅 - 이제 나만 믿어요\n",
            " 30위 선미 - 열이올라요 (Heart Burn)\n",
            " 31위 임영웅 - 아버지\n",
            " 32위 경서예지, 전건호 - 다정히 내 이름을 부르면\n",
            " 33위 Red Velvet (레드벨벳) - Feel My Rhythm\n",
            " 34위 WSG워너비 (오아시소) - Clink Clink (클링 클링)\n",
            " 35위 임영웅 - A bientot\n",
            " 36위 임영웅 - 손이 참 곱던 그대\n",
            " 37위 이무진 - 신호등\n",
            " 38위 #안녕 - 해요 (2022)\n",
            " 39위 Charlie Puth - That's Hilarious\n",
            " 40위 임영웅 - 사랑해 진짜\n",
            " 41위 The Kid LAROI, Justin Bieber - STAY\n",
            " 42위 WINNER - I LOVE U\n",
            " 43위 방탄소년단 - Dynamite\n",
            " 44위 임영웅 - 인생찬가\n",
            " 45위 Charlie Puth, 정국, 방탄소년단 - Left and Right (Feat. Jung Kook of BTS)\n",
            " 46위 주시크 (Joosiq) - 아무래도 난\n",
            " 47위 임영웅 - 연애편지\n",
            " 48위 이석훈 - 바보에게 바보가 (웹툰 '연애의 발견' X 이석훈)\n",
            " 49위 성시경 - 너의 모든 순간\n",
            " 50위 방탄소년단 - Yet To Come\n",
            " 51위 (여자)아이들 - MY BAG\n",
            " 52위 박재범 - GANADARA (Feat. 아이유)\n",
            " 53위 태연 (TAEYEON) - Weekend\n",
            " 54위 임영웅 - 사랑역\n",
            " 55위 태연 (TAEYEON) - INVU\n",
            " 56위 MSG워너비(M.O.M) - 듣고 싶을까\n",
            " 57위 김승민 - 내 기쁨은 너가 벤틀리를 끄는 거야\n",
            " 58위 임영웅 - 보금자리\n",
            " 59위 세븐틴 - HOT\n",
            " 60위 임영웅 - 사랑해요 그대를\n",
            " 61위 방탄소년단 - Butter\n",
            " 62위 aespa - Next Level\n",
            " 63위 STAYC(스테이씨) - BEAUTIFUL MONSTER\n",
            " 64위 케이시 (Kassy) - 늦은 밤 헤어지긴 너무 아쉬워\n",
            " 65위 OneRepublic - I Ain't Worried\n",
            " 66위 YENA (최예나) - SMILEY (Feat. BIBI)\n",
            " 67위 방탄소년단 - Permission to Dance\n",
            " 68위 주시크 (Joosiq) - 너를 생각해\n",
            " 69위 세븐틴 - _WORLD\n",
            " 70위 경서 - 밤하늘의 별을(2020)\n",
            " 71위 청하 - Sparkling\n",
            " 72위 MSG워너비(M.O.M) - 바라만 본다\n",
            " 73위 한동근 - 새벽에 걸려온 너의 전화는\n",
            " 74위 다비치 - 팡파레\n",
            " 75위 임재현 - 고백하는 취한밤에 (Prod. 2soo)\n",
            " 76위 아이유 - 드라마\n",
            " 77위 sokodomo - 회전목마 (Feat. Zion.T, 원슈타인) (Prod. Slom)\n",
            " 78위 아이유 - 내 손을 잡아\n",
            " 79위 Justin Bieber - Off My Face\n",
            " 80위 폴킴 - 모든 날, 모든 순간 (Every day, Every Moment)\n",
            " 81위 WSG워너비 - 눈을 감으면\n",
            " 82위 아이유 - strawberry moon\n",
            " 83위 케이시 (Kassy) - 언제나 사랑해\n",
            " 84위 방탄소년단 - 봄날\n",
            " 85위 케이시 (Kassy) - 사랑이야\n",
            " 86위 디핵 (D-Hack), PATEKO (파테코) - OHAYO MY NIGHT\n",
            " 87위 BE'O (비오) - 리무진 (Feat. MINO) (Prod. GRAY)\n",
            " 88위 브레이브걸스 - 롤린 (Rollin')\n",
            " 89위 Coldplay, 방탄소년단 - My Universe\n",
            " 90위 아이유 - Celebrity\n",
            " 91위 V.O.S - 미친 것처럼\n",
            " 92위 지민, 하성운 - With you\n",
            " 93위 주호 - 그 하루(feat.반하나)\n",
            " 94위 아이유 - 라일락\n",
            " 95위 제시 (Jessi) - ZOOM\n",
            " 96위 자우림 - 스물다섯, 스물하나\n",
            " 97위 aespa - Savage\n",
            " 98위 세븐틴 - Darl+ing\n",
            " 99위 benny blanco, 방탄소년단, Snoop Dogg - Bad Decisions\n",
            "100위 탑현 - 사랑한다고 말해줘\n"
          ]
        }
      ]
    },
    {
      "cell_type": "markdown",
      "source": [
        "### **2-4. 지니차트 200**"
      ],
      "metadata": {
        "id": "AfHUEyKu_THe"
      }
    },
    {
      "cell_type": "code",
      "source": [
        "url = 'https://www.genie.co.kr/chart/top200?ditc=D&ymd=20220627&hh=21&rtm=Y&pg='\n",
        "for i in range(1, 5):\n",
        "  site = '{}{}'.format(url, i)\n",
        "  print(site)"
      ],
      "metadata": {
        "colab": {
          "base_uri": "https://localhost:8080/"
        },
        "id": "D6BHr8nu_RCc",
        "outputId": "ba26fe11-73f1-4b28-896a-f8edf5654e2d"
      },
      "execution_count": null,
      "outputs": [
        {
          "output_type": "stream",
          "name": "stdout",
          "text": [
            "https://www.genie.co.kr/chart/top200?ditc=D&ymd=20220627&hh=21&rtm=Y&pg=1\n",
            "https://www.genie.co.kr/chart/top200?ditc=D&ymd=20220627&hh=21&rtm=Y&pg=2\n",
            "https://www.genie.co.kr/chart/top200?ditc=D&ymd=20220627&hh=21&rtm=Y&pg=3\n",
            "https://www.genie.co.kr/chart/top200?ditc=D&ymd=20220627&hh=21&rtm=Y&pg=4\n"
          ]
        }
      ]
    },
    {
      "cell_type": "code",
      "source": [
        "import time\n",
        "\n",
        "genie = []\n",
        "\n",
        "# User-Agent: Mozilla/5.0 (Windows NT 10.0; Win64; x64) AppleWebKit/537.36 (KHTML, like Gecko) Chrome/102.0.0.0 Safari/537.36\n",
        "header = {'User-Agent':'Mozilla/5.0 (Windows NT 10.0; Win64; x64)'}\n",
        "url = 'https://www.genie.co.kr/chart/top200?ditc=D&ymd=20220627&hh=21&rtm=Y&pg='\n",
        "for i in range(1, 5):\n",
        "  site = '{}{}'.format(url, i)\n",
        "  request = requests.get(site, headers=header)\n",
        "  time.sleep(1) \n",
        "  # for문은 빠르니까 첫 페이지 요청하자마자 바로 두번째 페이지 요청,,세번째, 네번째 페이지를 요청을 한다. \n",
        "  # 그러면 읽어오지 못한 첫 페이지에서 바로 다음페이지를 읽어올 수 있기 때문에 잠깐 멈춰주도록하기 위해 time.sleep(1) 1초를 건다.\n",
        "  # time.sleep()을 사용하려면 import time이 필요하므로 맨 처음에 적어둔다.\n",
        "  soup = BeautifulSoup(request.text)\n",
        "\n",
        "  titles = soup.findAll('a', {'class':'title ellipsis'})\n",
        "  # print(titles)\n",
        "  artists = soup.findAll('a', {'class':'artist ellipsis'})\n",
        "  # print(artists)\n",
        "  for i in range(50):\n",
        "    if titles[i].text.strip().split('\\n')[0] == '19금': # 19금 로고를 없애기 위해서 \n",
        "      title = titles[i].text.strip().split('\\n')[-1].replace(' ', '')  # 끝에것을 가져오기 위해서 [-1]을 하는 것, 그리고 공백(' ')이 있으면 '' 공백을 없앰\n",
        "    else:\n",
        "      title = titles[i].text.strip()\n",
        "\n",
        "    artist = artists[i].text.strip().split('\\n')[0]\n",
        "    genie.append((title, artist))\n",
        "\n",
        "print(genie)\n",
        "print(len(genie))"
      ],
      "metadata": {
        "colab": {
          "base_uri": "https://localhost:8080/"
        },
        "id": "06toKfov_ULz",
        "outputId": "e97bee80-9b2a-4d63-f9b1-b9a907779f94"
      },
      "execution_count": null,
      "outputs": [
        {
          "output_type": "stream",
          "name": "stdout",
          "text": [
            "[('Attention', 'NewJeans'), ('그때 그 순간 그대로 (그그그)', 'WSG워너비 (가야G)'), ('보고싶었어', 'WSG워너비 (4FIRE)'), ('Hype boy', 'NewJeans'), ('LOVE DIVE', 'IVE (아이브)'), ('SNEAKERS', 'NewJeans'), ('TOMBOY', 'WSG워너비 (가야G)'), ('POP!', 'WSG워너비 (4FIRE)'), ('That That (Prod. & Feat. SUGA of BTS)', 'NewJeans'), ('정이라고 하자 (Feat. 10CM)', 'IVE (아이브)'), ('나의 X에게', 'ITZY (있지)'), ('사랑인가 봐', '(여자)아이들'), ('사랑은 늘 도망가', '나연 (TWICE)'), ('도깨비불 (Illusion)', '싸이 (Psy)'), ('FOREVER 1', 'BIG Naughty (서동현)'), ('Love story', '경서'), ('그라데이션', '멜로망스 (MeloMance)'), ('우리들의 블루스', '임영웅'), ('LOVE me', 'aespa'), ('Girls', \"소녀시대 (GIRLS' GENERATION)\"), ('내가 아니라도', '볼빨간사춘기'), ('봄여름가을겨울 (Still Life)', '10CM'), (\"That's Hilarious\", '임영웅'), ('Clink Clink (클링 클링)', \"BE'O (비오)\"), ('다정히 내 이름을 부르면', 'aespa'), ('Cookie', '주호'), ('FEARLESS', 'BIGBANG (빅뱅)'), ('다시 만날 수 있을까', 'Charlie Puth'), ('취중고백', 'WSG워너비 (오아시소)'), ('열이올라요 (Heart Burn)', '경서예지 & 전건호'), ('ELEVEN', 'NewJeans'), ('신호등', 'LE SSERAFIM (르세라핌)'), (\"바보에게 바보가 (웹툰 '연애의 발견' X 이석훈)\", '임영웅'), ('이제 나만 믿어요', '김민석 (멜로망스)'), ('Stay', '선미'), ('Weekend', 'IVE (아이브)'), ('무지개', '이무진'), ('해요 (2022)', '이석훈'), ('MY BAG', '임영웅'), ('내 기쁨은 너가 벤틀리를 끄는 거야', 'The Kid LAROI & Justin Bieber'), ('Feel My Rhythm', '태연 (TAEYEON)'), ('아버지', '임영웅'), ('strawberry moon', '#안녕'), ('듣고 싶을까', '(여자)아이들'), ('Dynamite', '김승민'), ('팡파레', 'Red Velvet (레드벨벳)'), ('I LOVE U', '임영웅'), ('A bientot', '아이유 (IU)'), ('GANADARA (Feat. 아이유)', 'MSG워너비 (M.O.M)'), ('사랑이야', '방탄소년단'), ('손이 참 곱던 그대', 'NewJeans'), ('Bad Habits', 'WSG워너비 (가야G)'), ('너의 모든 순간', 'WSG워너비 (4FIRE)'), ('사랑해 진짜', 'NewJeans'), ('ZOOM', 'IVE (아이브)'), ('아무래도 난', '임영웅'), ('바라만 본다', 'Ed Sheeran'), ('Next Level', '성시경'), ('INVU', '임영웅'), ('Left and Right (Feat. Jung Kook of BTS)', '제시'), ('사랑역', '주시크 (Joosiq)'), ('Yet To Come', 'MSG워너비 (M.O.M)'), ('연애편지', 'aespa'), ('사랑해요 그대를', '태연 (TAEYEON)'), ('너를 생각해', 'Charlie Puth & 정국 & 방탄소년단'), ('회전목마 (Feat. Zion.T & 원슈타인) (Prod. by Slom)', '임영웅'), ('보금자리', '방탄소년단'), ('인생찬가', '임영웅'), ('2002', '임영웅'), ('My Universe', '주시크 (Joosiq)'), ('OHAYO MY NIGHT', 'sokodomo'), (\"Stronger (What Doesn't Kill You)\", '임영웅'), ('눈을 감으면', '임영웅'), ('리무진 (Feat. MINO) (Prod. by GRAY)', 'Anne-Marie'), ('Loving You Girl (Feat. Hkeem)', 'Coldplay & 방탄소년단'), ('HOT', '디핵 (D-Hack) & PATEKO'), ('Every Second', 'Kelly Clarkson'), ('늦은 밤 헤어지긴 너무 아쉬워', 'WSG워너비'), ('밤하늘의 별을 (2020)', \"BE'O (비오)\"), ('새벽에 걸려온 너의 전화는', 'Peder Elias'), ('Butter', '세븐틴 (SEVENTEEN)'), ('모든 날, 모든 순간 (Every day, Every Moment)', 'Mina Okabe'), ('낙하 (With 아이유)', '케이시 (Kassy)'), ('내 손을 잡아', '경서'), ('Permission to Dance', '한동근'), ('언제나 사랑해', '방탄소년단'), ('abcdefu', '폴킴'), ('라일락', 'AKMU (악뮤)'), ('없었던 일로', '아이유 (IU)'), ('호랑수월가', '방탄소년단'), (\"롤린 (Rollin')\", '케이시 (Kassy)'), ('Celebrity', 'GAYLE'), ('문득', '아이유 (IU)'), ('헤픈 우연', '헤이즈 (Heize)'), ('찰나가 영원이 될 때 (The Eternal Moment)', '탑현'), ('At My Worst', '브레이브걸스 (Brave girls)'), ('흔들리는 꽃들 속에서 네 샴푸향이 느껴진거야', '아이유 (IU)'), ('미친 것처럼', \"BE'O (비오)\"), ('고백', '헤이즈 (Heize)'), ('_WORLD', '마크툽 (Maktub)'), ('Tiny Riot', 'NewJeans'), ('Somebody!', 'WSG워너비 (가야G)'), ('스물다섯, 스물하나', 'WSG워너비 (4FIRE)'), ('Off My Face', 'NewJeans'), ('SMILEY (Feat. BIBI)', 'IVE (아이브)'), (\"I Ain't Worried\", 'Sam Ryder'), ('그 하루 (Feat. 반하나)', '로꼬 & 화사 (Hwa Sa)'), ('Blueming', '자우림'), ('Celeb', 'Justin Bieber'), ('오늘도 빛나는 너에게 (To You My Light) (Feat.이라온)', 'YENA (최예나)'), ('고백하는 취한밤에 (Prod. by 2soo)', 'OneRepublic'), ('오래된 노래', '주호'), ('드라마', '아이유 (IU)'), ('Counting Stars (Feat. Beenzino)', '싸이 (Psy)'), ('Sparkling', '마크툽 (Maktub)'), ('에잇 (Prod. & Feat. SUGA of BTS)', '임재현'), ('Hurt', 'Standing Egg (스탠딩 에그)'), ('어떻게 이별까지 사랑하겠어, 널 사랑하는 거지', '아이유 (IU)'), ('Way Back Home', \"BE'O (비오)\"), ('서랍', '청하'), ('여행', '아이유 (IU)'), ('작은 것들을 위한 시 (Boy With Luv) (Feat. Halsey)', 'NewJeans'), ('Dun Dun Dance', 'AKMU (악뮤)'), ('12 : 45 (Stripped)', '숀 (SHAUN)'), ('사랑한다고 말해줘', '10CM'), ('빛이 나는 사람', '볼빨간사춘기'), ('Dangerously', '방탄소년단'), ('어제처럼', '오마이걸 (OH MY GIRL)'), ('사이렌 Remix (Feat. UNEDUCATED KID & Paul Blanco)', 'etham'), ('Rainy day (Feat. ASH ISLAND & Skinny Brown)', '탑현'), ('Savage', '김호중'), ('비가 오는 날엔 (2021)', 'Charlie Puth'), ('Bad', '폴킴'), ('BEAUTIFUL MONSTER', '호미들'), ('METEOR', 'PATEKO (파테코)'), ('주마등', 'aespa'), ('괴짜 (Freak)', '헤이즈 (Heize)'), ('만남은 쉽고 이별은 어려워 (Feat. Leellamarz) (Prod. by TOIL)', 'Christopher'), ('아로하', 'STAYC (스테이씨)'), ('너의 번호를 누르고 (Prod. by 영화처럼)', '창모 (CHANGMO)'), ('봄날', '김호중'), ('Lovesick Girls', '지코 (ZICO)'), ('Memories', '베이식 (Basick)'), ('약속 (約束)', '조정석'), ('비와 당신', '#안녕'), ('봄 to 러브', '방탄소년단'), ('Peaches(Feat.DanielCaesar&Giveon)', 'BLACKPINK'), ('감동이야 (Feat. 성시경)', 'Maroon 5'), ('첫눈처럼 너에게 가겠다', '김호중'), ('추억은 만남보다 이별에 남아', '이무진'), ('Dance Monkey', 'NewJeans'), ('parachute', 'WSG워너비 (가야G)'), ('이러면 안 될 거 아는데 너 앞에만 서면 나락 (Feat. 10CM)', 'WSG워너비 (4FIRE)'), ('주저하는 연인들을 위해', 'NewJeans'), ('Shape Of You', 'IVE (아이브)'), ('With you', 'Tones And I'), ('취기를 빌려 (취향저격 그녀 X 산들)', 'John K'), ('Hey Mama (Feat. Nicki Minaj & Bebe Rexha & Afrojack)', '딘딘 (DINDIN)'), ('눈이 오잖아 (Feat. 헤이즈)', '잔나비'), ('안녕', 'Ed Sheeran'), ('있잖아', '지민 & 하성운'), ('밝게 빛나는 별이 되어 비춰줄게', '산들'), ('Light Switch', 'David Guetta'), ('노래방에서', '이무진'), ('Because Of You', '폴킴'), ('Savage Love (Laxed - Siren Beat) (BTS Remix)', '폴킴'), ('Timeless', '송이한'), ('친구', 'Charlie Puth'), ('어마어마해', '장범준'), ('Stay This Way', 'Ne-Yo'), ('너에게 꼭 말하고 싶은 게 있어', 'Jawsh 685 & Jason Derulo & 방탄소년단'), ('그날에 나는 맘이 편했을까', 'SG워너비'), ('시작', '김호중'), ('Seoul', 'WSG워너비'), ('늦은 밤 너의 집 앞 골목길에서', '프로미스나인'), ('Oye Como Va', '경서예지'), ('우리가 헤어져야 했던 이유', '이예준'), ('스티커 사진', '가호 (Gaho)'), (\"Summer (Feat. BE'O (비오))\", '볼빨간사춘기'), ('밤편지', '노을'), ('Dolphin', '김호중'), ('Darl＋ing', '비비 (BIBI)'), ('나는 트로트가 싫어요', '21학번'), ('망해 간다니까', 'Paul Blanco'), ('Adoro', '아이유 (IU)'), ('나만, 봄', '오마이걸 (OH MY GIRL)'), ('가을꽃', '세븐틴 (SEVENTEEN)'), ('한여름밤의 꿀', '임창정'), (\"I Don't Care\", '오반'), ('Tiritomba', '김호중'), ('사랑이 불어오나 봐', '볼빨간사춘기'), ('Bad Decisions', '김호중'), ('팔레트 (Feat. G-DRAGON)', 'San E & 레이나'), ('나비 (Outro)', '2NE1'), ('그리움의 계절', '김호중'), ('상상 (Beyond My Dreams)', '펀치 (Punch)'), ('Love in Portofino', 'Benny Blanco & 방탄소년단 & Snoop Dogg'), ('Paris In The Rain', '아이유 (IU)'), ('엉덩이가 큰 그녀 (Feat. The Quiett)', '김호중'), ('그게 더 편할 것 같아 (N번째 연애 X 멜로망스)', '김호중')]\n",
            "200\n"
          ]
        }
      ]
    },
    {
      "cell_type": "markdown",
      "source": [
        "![11.png](data:image/png;base64,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)"
      ],
      "metadata": {
        "id": "vlxB9KYOIwD5"
      }
    },
    {
      "cell_type": "markdown",
      "source": [
        "![12.png](data:image/png;base64,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)"
      ],
      "metadata": {
        "id": "nFqqP5l0JO-x"
      }
    },
    {
      "cell_type": "code",
      "source": [
        "for i in range(200):\n",
        "  print('{0:3d}위 {1} - {2}'.format(i + 1, genie[i][1], genie[i][0]))"
      ],
      "metadata": {
        "colab": {
          "base_uri": "https://localhost:8080/"
        },
        "id": "nZbAM0PY_WRK",
        "outputId": "7d093fc3-a1ac-48d5-ad51-2dfc397a09fc"
      },
      "execution_count": null,
      "outputs": [
        {
          "output_type": "stream",
          "name": "stdout",
          "text": [
            "  1위 NewJeans - Attention\n",
            "  2위 WSG워너비 (가야G) - 그때 그 순간 그대로 (그그그)\n",
            "  3위 WSG워너비 (4FIRE) - 보고싶었어\n",
            "  4위 NewJeans - Hype boy\n",
            "  5위 IVE (아이브) - LOVE DIVE\n",
            "  6위 NewJeans - SNEAKERS\n",
            "  7위 WSG워너비 (가야G) - TOMBOY\n",
            "  8위 WSG워너비 (4FIRE) - POP!\n",
            "  9위 NewJeans - That That (Prod. & Feat. SUGA of BTS)\n",
            " 10위 IVE (아이브) - 정이라고 하자 (Feat. 10CM)\n",
            " 11위 ITZY (있지) - 나의 X에게\n",
            " 12위 (여자)아이들 - 사랑인가 봐\n",
            " 13위 나연 (TWICE) - 사랑은 늘 도망가\n",
            " 14위 싸이 (Psy) - 도깨비불 (Illusion)\n",
            " 15위 BIG Naughty (서동현) - FOREVER 1\n",
            " 16위 경서 - Love story\n",
            " 17위 멜로망스 (MeloMance) - 그라데이션\n",
            " 18위 임영웅 - 우리들의 블루스\n",
            " 19위 aespa - LOVE me\n",
            " 20위 소녀시대 (GIRLS' GENERATION) - Girls\n",
            " 21위 볼빨간사춘기 - 내가 아니라도\n",
            " 22위 10CM - 봄여름가을겨울 (Still Life)\n",
            " 23위 임영웅 - That's Hilarious\n",
            " 24위 BE'O (비오) - Clink Clink (클링 클링)\n",
            " 25위 aespa - 다정히 내 이름을 부르면\n",
            " 26위 주호 - Cookie\n",
            " 27위 BIGBANG (빅뱅) - FEARLESS\n",
            " 28위 Charlie Puth - 다시 만날 수 있을까\n",
            " 29위 WSG워너비 (오아시소) - 취중고백\n",
            " 30위 경서예지 & 전건호 - 열이올라요 (Heart Burn)\n",
            " 31위 NewJeans - ELEVEN\n",
            " 32위 LE SSERAFIM (르세라핌) - 신호등\n",
            " 33위 임영웅 - 바보에게 바보가 (웹툰 '연애의 발견' X 이석훈)\n",
            " 34위 김민석 (멜로망스) - 이제 나만 믿어요\n",
            " 35위 선미 - Stay\n",
            " 36위 IVE (아이브) - Weekend\n",
            " 37위 이무진 - 무지개\n",
            " 38위 이석훈 - 해요 (2022)\n",
            " 39위 임영웅 - MY BAG\n",
            " 40위 The Kid LAROI & Justin Bieber - 내 기쁨은 너가 벤틀리를 끄는 거야\n",
            " 41위 태연 (TAEYEON) - Feel My Rhythm\n",
            " 42위 임영웅 - 아버지\n",
            " 43위 #안녕 - strawberry moon\n",
            " 44위 (여자)아이들 - 듣고 싶을까\n",
            " 45위 김승민 - Dynamite\n",
            " 46위 Red Velvet (레드벨벳) - 팡파레\n",
            " 47위 임영웅 - I LOVE U\n",
            " 48위 아이유 (IU) - A bientot\n",
            " 49위 MSG워너비 (M.O.M) - GANADARA (Feat. 아이유)\n",
            " 50위 방탄소년단 - 사랑이야\n",
            " 51위 NewJeans - 손이 참 곱던 그대\n",
            " 52위 WSG워너비 (가야G) - Bad Habits\n",
            " 53위 WSG워너비 (4FIRE) - 너의 모든 순간\n",
            " 54위 NewJeans - 사랑해 진짜\n",
            " 55위 IVE (아이브) - ZOOM\n",
            " 56위 임영웅 - 아무래도 난\n",
            " 57위 Ed Sheeran - 바라만 본다\n",
            " 58위 성시경 - Next Level\n",
            " 59위 임영웅 - INVU\n",
            " 60위 제시 - Left and Right (Feat. Jung Kook of BTS)\n",
            " 61위 주시크 (Joosiq) - 사랑역\n",
            " 62위 MSG워너비 (M.O.M) - Yet To Come\n",
            " 63위 aespa - 연애편지\n",
            " 64위 태연 (TAEYEON) - 사랑해요 그대를\n",
            " 65위 Charlie Puth & 정국 & 방탄소년단 - 너를 생각해\n",
            " 66위 임영웅 - 회전목마 (Feat. Zion.T & 원슈타인) (Prod. by Slom)\n",
            " 67위 방탄소년단 - 보금자리\n",
            " 68위 임영웅 - 인생찬가\n",
            " 69위 임영웅 - 2002\n",
            " 70위 주시크 (Joosiq) - My Universe\n",
            " 71위 sokodomo - OHAYO MY NIGHT\n",
            " 72위 임영웅 - Stronger (What Doesn't Kill You)\n",
            " 73위 임영웅 - 눈을 감으면\n",
            " 74위 Anne-Marie - 리무진 (Feat. MINO) (Prod. by GRAY)\n",
            " 75위 Coldplay & 방탄소년단 - Loving You Girl (Feat. Hkeem)\n",
            " 76위 디핵 (D-Hack) & PATEKO - HOT\n",
            " 77위 Kelly Clarkson - Every Second\n",
            " 78위 WSG워너비 - 늦은 밤 헤어지긴 너무 아쉬워\n",
            " 79위 BE'O (비오) - 밤하늘의 별을 (2020)\n",
            " 80위 Peder Elias - 새벽에 걸려온 너의 전화는\n",
            " 81위 세븐틴 (SEVENTEEN) - Butter\n",
            " 82위 Mina Okabe - 모든 날, 모든 순간 (Every day, Every Moment)\n",
            " 83위 케이시 (Kassy) - 낙하 (With 아이유)\n",
            " 84위 경서 - 내 손을 잡아\n",
            " 85위 한동근 - Permission to Dance\n",
            " 86위 방탄소년단 - 언제나 사랑해\n",
            " 87위 폴킴 - abcdefu\n",
            " 88위 AKMU (악뮤) - 라일락\n",
            " 89위 아이유 (IU) - 없었던 일로\n",
            " 90위 방탄소년단 - 호랑수월가\n",
            " 91위 케이시 (Kassy) - 롤린 (Rollin')\n",
            " 92위 GAYLE - Celebrity\n",
            " 93위 아이유 (IU) - 문득\n",
            " 94위 헤이즈 (Heize) - 헤픈 우연\n",
            " 95위 탑현 - 찰나가 영원이 될 때 (The Eternal Moment)\n",
            " 96위 브레이브걸스 (Brave girls) - At My Worst\n",
            " 97위 아이유 (IU) - 흔들리는 꽃들 속에서 네 샴푸향이 느껴진거야\n",
            " 98위 BE'O (비오) - 미친 것처럼\n",
            " 99위 헤이즈 (Heize) - 고백\n",
            "100위 마크툽 (Maktub) - _WORLD\n",
            "101위 NewJeans - Tiny Riot\n",
            "102위 WSG워너비 (가야G) - Somebody!\n",
            "103위 WSG워너비 (4FIRE) - 스물다섯, 스물하나\n",
            "104위 NewJeans - Off My Face\n",
            "105위 IVE (아이브) - SMILEY (Feat. BIBI)\n",
            "106위 Sam Ryder - I Ain't Worried\n",
            "107위 로꼬 & 화사 (Hwa Sa) - 그 하루 (Feat. 반하나)\n",
            "108위 자우림 - Blueming\n",
            "109위 Justin Bieber - Celeb\n",
            "110위 YENA (최예나) - 오늘도 빛나는 너에게 (To You My Light) (Feat.이라온)\n",
            "111위 OneRepublic - 고백하는 취한밤에 (Prod. by 2soo)\n",
            "112위 주호 - 오래된 노래\n",
            "113위 아이유 (IU) - 드라마\n",
            "114위 싸이 (Psy) - Counting Stars (Feat. Beenzino)\n",
            "115위 마크툽 (Maktub) - Sparkling\n",
            "116위 임재현 - 에잇 (Prod. & Feat. SUGA of BTS)\n",
            "117위 Standing Egg (스탠딩 에그) - Hurt\n",
            "118위 아이유 (IU) - 어떻게 이별까지 사랑하겠어, 널 사랑하는 거지\n",
            "119위 BE'O (비오) - Way Back Home\n",
            "120위 청하 - 서랍\n",
            "121위 아이유 (IU) - 여행\n",
            "122위 NewJeans - 작은 것들을 위한 시 (Boy With Luv) (Feat. Halsey)\n",
            "123위 AKMU (악뮤) - Dun Dun Dance\n",
            "124위 숀 (SHAUN) - 12 : 45 (Stripped)\n",
            "125위 10CM - 사랑한다고 말해줘\n",
            "126위 볼빨간사춘기 - 빛이 나는 사람\n",
            "127위 방탄소년단 - Dangerously\n",
            "128위 오마이걸 (OH MY GIRL) - 어제처럼\n",
            "129위 etham - 사이렌 Remix (Feat. UNEDUCATED KID & Paul Blanco)\n",
            "130위 탑현 - Rainy day (Feat. ASH ISLAND & Skinny Brown)\n",
            "131위 김호중 - Savage\n",
            "132위 Charlie Puth - 비가 오는 날엔 (2021)\n",
            "133위 폴킴 - Bad\n",
            "134위 호미들 - BEAUTIFUL MONSTER\n",
            "135위 PATEKO (파테코) - METEOR\n",
            "136위 aespa - 주마등\n",
            "137위 헤이즈 (Heize) - 괴짜 (Freak)\n",
            "138위 Christopher - 만남은 쉽고 이별은 어려워 (Feat. Leellamarz) (Prod. by TOIL)\n",
            "139위 STAYC (스테이씨) - 아로하\n",
            "140위 창모 (CHANGMO) - 너의 번호를 누르고 (Prod. by 영화처럼)\n",
            "141위 김호중 - 봄날\n",
            "142위 지코 (ZICO) - Lovesick Girls\n",
            "143위 베이식 (Basick) - Memories\n",
            "144위 조정석 - 약속 (約束)\n",
            "145위 #안녕 - 비와 당신\n",
            "146위 방탄소년단 - 봄 to 러브\n",
            "147위 BLACKPINK - Peaches(Feat.DanielCaesar&Giveon)\n",
            "148위 Maroon 5 - 감동이야 (Feat. 성시경)\n",
            "149위 김호중 - 첫눈처럼 너에게 가겠다\n",
            "150위 이무진 - 추억은 만남보다 이별에 남아\n",
            "151위 NewJeans - Dance Monkey\n",
            "152위 WSG워너비 (가야G) - parachute\n",
            "153위 WSG워너비 (4FIRE) - 이러면 안 될 거 아는데 너 앞에만 서면 나락 (Feat. 10CM)\n",
            "154위 NewJeans - 주저하는 연인들을 위해\n",
            "155위 IVE (아이브) - Shape Of You\n",
            "156위 Tones And I - With you\n",
            "157위 John K - 취기를 빌려 (취향저격 그녀 X 산들)\n",
            "158위 딘딘 (DINDIN) - Hey Mama (Feat. Nicki Minaj & Bebe Rexha & Afrojack)\n",
            "159위 잔나비 - 눈이 오잖아 (Feat. 헤이즈)\n",
            "160위 Ed Sheeran - 안녕\n",
            "161위 지민 & 하성운 - 있잖아\n",
            "162위 산들 - 밝게 빛나는 별이 되어 비춰줄게\n",
            "163위 David Guetta - Light Switch\n",
            "164위 이무진 - 노래방에서\n",
            "165위 폴킴 - Because Of You\n",
            "166위 폴킴 - Savage Love (Laxed - Siren Beat) (BTS Remix)\n",
            "167위 송이한 - Timeless\n",
            "168위 Charlie Puth - 친구\n",
            "169위 장범준 - 어마어마해\n",
            "170위 Ne-Yo - Stay This Way\n",
            "171위 Jawsh 685 & Jason Derulo & 방탄소년단 - 너에게 꼭 말하고 싶은 게 있어\n",
            "172위 SG워너비 - 그날에 나는 맘이 편했을까\n",
            "173위 김호중 - 시작\n",
            "174위 WSG워너비 - Seoul\n",
            "175위 프로미스나인 - 늦은 밤 너의 집 앞 골목길에서\n",
            "176위 경서예지 - Oye Como Va\n",
            "177위 이예준 - 우리가 헤어져야 했던 이유\n",
            "178위 가호 (Gaho) - 스티커 사진\n",
            "179위 볼빨간사춘기 - Summer (Feat. BE'O (비오))\n",
            "180위 노을 - 밤편지\n",
            "181위 김호중 - Dolphin\n",
            "182위 비비 (BIBI) - Darl＋ing\n",
            "183위 21학번 - 나는 트로트가 싫어요\n",
            "184위 Paul Blanco - 망해 간다니까\n",
            "185위 아이유 (IU) - Adoro\n",
            "186위 오마이걸 (OH MY GIRL) - 나만, 봄\n",
            "187위 세븐틴 (SEVENTEEN) - 가을꽃\n",
            "188위 임창정 - 한여름밤의 꿀\n",
            "189위 오반 - I Don't Care\n",
            "190위 김호중 - Tiritomba\n",
            "191위 볼빨간사춘기 - 사랑이 불어오나 봐\n",
            "192위 김호중 - Bad Decisions\n",
            "193위 San E & 레이나 - 팔레트 (Feat. G-DRAGON)\n",
            "194위 2NE1 - 나비 (Outro)\n",
            "195위 김호중 - 그리움의 계절\n",
            "196위 펀치 (Punch) - 상상 (Beyond My Dreams)\n",
            "197위 Benny Blanco & 방탄소년단 & Snoop Dogg - Love in Portofino\n",
            "198위 아이유 (IU) - Paris In The Rain\n",
            "199위 김호중 - 엉덩이가 큰 그녀 (Feat. The Quiett)\n",
            "200위 김호중 - 그게 더 편할 것 같아 (N번째 연애 X 멜로망스)\n"
          ]
        }
      ]
    },
    {
      "cell_type": "code",
      "source": [],
      "metadata": {
        "id": "PCze96-R_Z0l"
      },
      "execution_count": null,
      "outputs": []
    }
  ]
}